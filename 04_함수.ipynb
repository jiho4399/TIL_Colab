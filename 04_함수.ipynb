{
  "nbformat": 4,
  "nbformat_minor": 0,
  "metadata": {
    "colab": {
      "name": "04. 함수.ipynb",
      "provenance": [],
      "collapsed_sections": [],
      "toc_visible": true,
      "authorship_tag": "ABX9TyPFQsNeMcfltFCAjzNQ/SqL",
      "include_colab_link": true
    },
    "kernelspec": {
      "name": "python3",
      "display_name": "Python 3"
    },
    "language_info": {
      "name": "python"
    }
  },
  "cells": [
    {
      "cell_type": "markdown",
      "metadata": {
        "id": "view-in-github",
        "colab_type": "text"
      },
      "source": [
        "<a href=\"https://colab.research.google.com/github/jiho4399/TIL_Colab/blob/master/04_%ED%95%A8%EC%88%98.ipynb\" target=\"_parent\"><img src=\"https://colab.research.google.com/assets/colab-badge.svg\" alt=\"Open In Colab\"/></a>"
      ]
    },
    {
      "cell_type": "markdown",
      "source": [
        "# 1. 함수\n",
        "\n",
        "```\n",
        "def 함수명 (입력값) : \n",
        "  실행문...\n",
        "```\n"
      ],
      "metadata": {
        "id": "w1P6oYHmJCqP"
      }
    },
    {
      "cell_type": "markdown",
      "source": [
        "## [1] 일반형태\n",
        "- 매개변수 (parameter) : 함수에서 입력값으로 받은 것\n",
        "- 인수 (argument) : 실행하는 데에 쓰이는 것\n"
      ],
      "metadata": {
        "id": "gLNR3g--Kh8_"
      }
    },
    {
      "cell_type": "markdown",
      "source": [
        "- 기본 형태\n",
        "```\n",
        "def 함수명 (매개변수) :    \n",
        "  실행문\n",
        "  return 결과값\n",
        " ---------------------------\n",
        "변수 = 함수명 (인수)\n",
        "```"
      ],
      "metadata": {
        "id": "k_7XTU1HLF0O"
      }
    },
    {
      "cell_type": "code",
      "execution_count": null,
      "metadata": {
        "colab": {
          "base_uri": "https://localhost:8080/"
        },
        "id": "L55BWTwmIv69",
        "outputId": "8ba4b50f-fbfe-490e-84ca-f5575eec7beb"
      },
      "outputs": [
        {
          "output_type": "execute_result",
          "data": {
            "text/plain": [
              "4"
            ]
          },
          "metadata": {},
          "execution_count": 5
        }
      ],
      "source": [
        "# 1. 함수 생성\n",
        "def add(a, b) : # 함수정의 함수이름(입력값으로 a와 b를 받음)\n",
        "  return a + b # 출력값 a + b (매개변수)\n",
        "\n",
        "add(1, 3) #(인수)"
      ]
    },
    {
      "cell_type": "markdown",
      "source": [
        "## [2] 입력값이 없는 경우\n",
        "\n",
        "```\n",
        "변수 = 함수명 ()\n",
        "```"
      ],
      "metadata": {
        "id": "kdS-wvyLLiag"
      }
    },
    {
      "cell_type": "code",
      "source": [
        "def say() :\n",
        "  return 'hi'\n",
        "\n",
        "a = say()\n",
        "a"
      ],
      "metadata": {
        "colab": {
          "base_uri": "https://localhost:8080/",
          "height": 35
        },
        "id": "BAFfAfCrJTp2",
        "outputId": "7c46b75f-f4a5-4653-9356-1f71ae42feb8"
      },
      "execution_count": null,
      "outputs": [
        {
          "output_type": "execute_result",
          "data": {
            "application/vnd.google.colaboratory.intrinsic+json": {
              "type": "string"
            },
            "text/plain": [
              "'hi'"
            ]
          },
          "metadata": {},
          "execution_count": 6
        }
      ]
    },
    {
      "cell_type": "markdown",
      "source": [
        "## [3] 결과값(return)이 없는 경우\n",
        "\n",
        "```\n",
        "함수명 (인수)\n",
        "```"
      ],
      "metadata": {
        "id": "PM5yCBXVL54g"
      }
    },
    {
      "cell_type": "code",
      "source": [
        "def add(a, b) :\n",
        "  print(f'{a}, {b}의 합은 {a + b}입니다.')\n",
        "\n",
        "add(5,6)"
      ],
      "metadata": {
        "colab": {
          "base_uri": "https://localhost:8080/"
        },
        "id": "xCAWVX1cLwvS",
        "outputId": "2c3ba431-1a05-4bcb-e6d7-25446d57c29b"
      },
      "execution_count": null,
      "outputs": [
        {
          "output_type": "stream",
          "name": "stdout",
          "text": [
            "5, 6의 합은 11입니다.\n"
          ]
        }
      ]
    },
    {
      "cell_type": "markdown",
      "source": [
        "## [4] 입력값, 츨력값 모두 없는 경우"
      ],
      "metadata": {
        "id": "Al0o99h6MWF8"
      }
    },
    {
      "cell_type": "code",
      "source": [
        "def say() :\n",
        "  print('hi~~')\n",
        "\n",
        "say()"
      ],
      "metadata": {
        "colab": {
          "base_uri": "https://localhost:8080/"
        },
        "id": "32zT87qyMMVe",
        "outputId": "3409f2e7-55a3-41f6-f357-9980542490f7"
      },
      "execution_count": null,
      "outputs": [
        {
          "output_type": "stream",
          "name": "stdout",
          "text": [
            "hi~~\n"
          ]
        }
      ]
    },
    {
      "cell_type": "code",
      "source": [
        ""
      ],
      "metadata": {
        "id": "JoNk5B8PM5MP"
      },
      "execution_count": null,
      "outputs": []
    },
    {
      "cell_type": "markdown",
      "source": [
        "## 인수를 지정하면 자리를 바꿔도 됨"
      ],
      "metadata": {
        "id": "9Xb3dZ2sOEgn"
      }
    },
    {
      "cell_type": "code",
      "source": [
        "# 인수를 지정하면 자리를 바꿔도 됨\n",
        "def add(a, b) :\n",
        "  print(b)\n",
        "  return a + b\n",
        "\n",
        "result = add(b = 3, a = 4)\n",
        "print(result)"
      ],
      "metadata": {
        "colab": {
          "base_uri": "https://localhost:8080/"
        },
        "id": "ROJKbx52Mf0L",
        "outputId": "32139259-0a75-4c0b-eb21-f265677aa503"
      },
      "execution_count": null,
      "outputs": [
        {
          "output_type": "stream",
          "name": "stdout",
          "text": [
            "3\n",
            "7\n"
          ]
        }
      ]
    },
    {
      "cell_type": "code",
      "source": [
        "def add(a, b) :\n",
        "  print(b)\n",
        "  return a + b\n",
        "\n",
        "add(3,4)"
      ],
      "metadata": {
        "colab": {
          "base_uri": "https://localhost:8080/"
        },
        "id": "Zvs-htXbM6Ye",
        "outputId": "5d3ec54f-f869-42c4-d9f4-fb3727b3d6a6"
      },
      "execution_count": null,
      "outputs": [
        {
          "output_type": "stream",
          "name": "stdout",
          "text": [
            "4\n"
          ]
        },
        {
          "output_type": "execute_result",
          "data": {
            "text/plain": [
              "7"
            ]
          },
          "metadata": {},
          "execution_count": 13
        }
      ]
    },
    {
      "cell_type": "markdown",
      "source": [
        "## *args\n",
        "\n",
        "- 데이터의 뭉치를 그대로 받아버리는 것\n",
        "- 매개변수의 갯수에 상관없이 받겠다는 뜻\n",
        "- 매개변수가 3개 이상일 때 사용!"
      ],
      "metadata": {
        "id": "jF91V3IGNt6Q"
      }
    },
    {
      "cell_type": "code",
      "source": [
        "def add2 (*args) :\n",
        "  print(args)\n",
        "\n",
        "add2(1, 2, 3)"
      ],
      "metadata": {
        "colab": {
          "base_uri": "https://localhost:8080/"
        },
        "id": "5l2Mip8GNfBZ",
        "outputId": "c2763fd9-9adb-4463-e7fd-f10bc904b1ee"
      },
      "execution_count": null,
      "outputs": [
        {
          "output_type": "stream",
          "name": "stdout",
          "text": [
            "(1, 2, 3)\n"
          ]
        }
      ]
    },
    {
      "cell_type": "code",
      "source": [
        "# 데이터를 꺼내고 싶으면 (다 더하는 코드로 이해해보기)\n",
        "def add2 (*args) :\n",
        "  \n",
        "  a = 0\n",
        "\n",
        "  for arg in args :\n",
        "    print(arg)\n",
        "    a += arg\n",
        "\n",
        "  return a\n",
        "\n",
        "result = add2(1, 2, 3)\n",
        "result\n",
        "\n",
        "# 출력값은 6하나!"
      ],
      "metadata": {
        "colab": {
          "base_uri": "https://localhost:8080/"
        },
        "id": "tahWc6DpNoiM",
        "outputId": "5b8dc4bb-42c8-4921-e52d-83ea6a8dd25a"
      },
      "execution_count": null,
      "outputs": [
        {
          "output_type": "stream",
          "name": "stdout",
          "text": [
            "1\n",
            "2\n",
            "3\n"
          ]
        },
        {
          "output_type": "execute_result",
          "data": {
            "text/plain": [
              "6"
            ]
          },
          "metadata": {},
          "execution_count": 23
        }
      ]
    },
    {
      "cell_type": "code",
      "source": [
        "result = add2(1, 2, 3, 4, 5, 6, 7, 8, 9, 10)\n",
        "\n",
        "result\n",
        "\n",
        "# 출력값은 55하나!"
      ],
      "metadata": {
        "colab": {
          "base_uri": "https://localhost:8080/"
        },
        "id": "ghzgTPDFOYlN",
        "outputId": "b4b1f30b-e64a-4e48-98a8-f8e227c8939c"
      },
      "execution_count": null,
      "outputs": [
        {
          "output_type": "stream",
          "name": "stdout",
          "text": [
            "1\n",
            "2\n",
            "3\n",
            "4\n",
            "5\n",
            "6\n",
            "7\n",
            "8\n",
            "9\n",
            "10\n"
          ]
        },
        {
          "output_type": "execute_result",
          "data": {
            "text/plain": [
              "55"
            ]
          },
          "metadata": {},
          "execution_count": 17
        }
      ]
    },
    {
      "cell_type": "code",
      "source": [
        "## 계산기 만들기\n",
        "def cal(op, *args) :\n",
        "  if op == 'add' :\n",
        "    result = 0\n",
        "\n",
        "    for arg in args :\n",
        "      #print(arg)\n",
        "      result += arg\n",
        "\n",
        "  elif op == 'mul' :\n",
        "    result = 1\n",
        "\n",
        "    for arg in args :\n",
        "      #print(arg)\n",
        "      result *= arg\n",
        "\n",
        "  else :\n",
        "    return 0\n",
        "\n",
        "  return result"
      ],
      "metadata": {
        "id": "3L8i3cUSPgmx"
      },
      "execution_count": null,
      "outputs": []
    },
    {
      "cell_type": "code",
      "source": [
        "a = cal('add', 1, 2, 3, 4, 5)\n",
        "a"
      ],
      "metadata": {
        "colab": {
          "base_uri": "https://localhost:8080/"
        },
        "id": "vFnSisoqQgFw",
        "outputId": "0c08cccb-2826-422c-d883-d6d229cb609d"
      },
      "execution_count": null,
      "outputs": [
        {
          "output_type": "execute_result",
          "data": {
            "text/plain": [
              "15"
            ]
          },
          "metadata": {},
          "execution_count": 6
        }
      ]
    },
    {
      "cell_type": "code",
      "source": [
        "b = cal('mul', 1, 2, 3, 4, 5)\n",
        "b"
      ],
      "metadata": {
        "colab": {
          "base_uri": "https://localhost:8080/"
        },
        "id": "BdZ__EcpQloA",
        "outputId": "971d7e03-03c6-4683-cafe-f3958204bdd2"
      },
      "execution_count": null,
      "outputs": [
        {
          "output_type": "execute_result",
          "data": {
            "text/plain": [
              "120"
            ]
          },
          "metadata": {},
          "execution_count": 7
        }
      ]
    },
    {
      "cell_type": "markdown",
      "source": [
        "## **kwargs\n",
        "- 키워드 파라미터\n",
        "- 키워드 알규먼트\n",
        "- 딕셔너리 형태로 출력됨"
      ],
      "metadata": {
        "id": "er3giOsTDOGd"
      }
    },
    {
      "cell_type": "code",
      "source": [
        "def print2(**kwargs) :\n",
        "  print(kwargs)\n",
        "\n",
        "print2(a = 1)"
      ],
      "metadata": {
        "colab": {
          "base_uri": "https://localhost:8080/"
        },
        "id": "Jb0Wple8Audy",
        "outputId": "b6141781-1147-4630-9f07-1139cb775228"
      },
      "execution_count": null,
      "outputs": [
        {
          "output_type": "stream",
          "name": "stdout",
          "text": [
            "{'a': 1}\n"
          ]
        }
      ]
    },
    {
      "cell_type": "code",
      "source": [
        "print2(name = '지호', age = 20)"
      ],
      "metadata": {
        "colab": {
          "base_uri": "https://localhost:8080/"
        },
        "id": "hj75cR63Dazu",
        "outputId": "b8059ef5-3b68-44b2-c7cc-f83b6d5d27c7"
      },
      "execution_count": null,
      "outputs": [
        {
          "output_type": "stream",
          "name": "stdout",
          "text": [
            "{'name': '지호', 'age': 20}\n"
          ]
        }
      ]
    },
    {
      "cell_type": "markdown",
      "source": [
        "## 결과 처리\n",
        "- packing된 결과를 튜플로 받음"
      ],
      "metadata": {
        "id": "gK5PDyjPD_Yj"
      }
    },
    {
      "cell_type": "code",
      "source": [
        "# packing\n",
        "def add_mul(a, b) :\n",
        "  return a + b, a * b\n",
        "\n",
        "result = add_mul(3, 5)\n",
        "result"
      ],
      "metadata": {
        "colab": {
          "base_uri": "https://localhost:8080/"
        },
        "id": "00VtSJd3DxcN",
        "outputId": "6f5c787f-5f5d-4994-dbea-b506d7b6257c"
      },
      "execution_count": null,
      "outputs": [
        {
          "output_type": "execute_result",
          "data": {
            "text/plain": [
              "(8, 15)"
            ]
          },
          "metadata": {},
          "execution_count": 14
        }
      ]
    },
    {
      "cell_type": "code",
      "source": [
        "# unpacking\n",
        "print(result[0])\n",
        "print(result[1])"
      ],
      "metadata": {
        "colab": {
          "base_uri": "https://localhost:8080/"
        },
        "id": "laYpk55CEGK0",
        "outputId": "81895a54-a705-43bd-cb8f-32c0b9f3675e"
      },
      "execution_count": null,
      "outputs": [
        {
          "output_type": "stream",
          "name": "stdout",
          "text": [
            "8\n",
            "15\n"
          ]
        }
      ]
    },
    {
      "cell_type": "code",
      "source": [
        "# unpacking\n",
        "res1 , res2 = add_mul(3, 5)\n",
        "\n",
        "print(res1)\n",
        "print(res2)"
      ],
      "metadata": {
        "colab": {
          "base_uri": "https://localhost:8080/"
        },
        "id": "hZTs9tLWEnmz",
        "outputId": "1197cfd0-66e7-4f3a-b8ff-7fba9f194250"
      },
      "execution_count": null,
      "outputs": [
        {
          "output_type": "stream",
          "name": "stdout",
          "text": [
            "8\n",
            "15\n"
          ]
        }
      ]
    },
    {
      "cell_type": "code",
      "source": [
        "# 함수의 파라메타가 유효한지 확인\n",
        "def say_nick(nick) :\n",
        "  if nick == '바보' :\n",
        "    return\n",
        "\n",
        "  print(f'나의 별명은 {nick} 입니다.')\n",
        "\n",
        "say_nick('바보')"
      ],
      "metadata": {
        "id": "yYS_6ZHaEzJ2"
      },
      "execution_count": null,
      "outputs": []
    },
    {
      "cell_type": "code",
      "source": [
        "say_nick('아이언맨')"
      ],
      "metadata": {
        "colab": {
          "base_uri": "https://localhost:8080/"
        },
        "id": "LP-s9MUQFfHj",
        "outputId": "9ae0a9e9-5ba2-466e-84eb-0b1cfd20aec8"
      },
      "execution_count": null,
      "outputs": [
        {
          "output_type": "stream",
          "name": "stdout",
          "text": [
            "나의 별명은 아이언맨 입니다.\n"
          ]
        }
      ]
    },
    {
      "cell_type": "markdown",
      "source": [
        "## 기본값 설정"
      ],
      "metadata": {
        "id": "7hyJAgxrF9y-"
      }
    },
    {
      "cell_type": "code",
      "source": [
        "# 기본 형식\n",
        "def intro_me(name, age, sex) :\n",
        "  print(f'나의 이름은 {name}입니다.')\n",
        "  print(f'나의 나이은 {age}입니다.')\n",
        "  print(f'나의 성별은 {sex}입니다.')\n",
        "\n",
        "intro_me('지호', '20', '여자')"
      ],
      "metadata": {
        "colab": {
          "base_uri": "https://localhost:8080/"
        },
        "id": "C9GY0qC1F02p",
        "outputId": "9a602bae-eb54-4886-81f8-b8e47e69b19c"
      },
      "execution_count": null,
      "outputs": [
        {
          "output_type": "stream",
          "name": "stdout",
          "text": [
            "나의 이름은 지호입니다.\n",
            "나의 나이은 20입니다.\n",
            "나의 성별은 여자입니다.\n"
          ]
        }
      ]
    },
    {
      "cell_type": "code",
      "source": [
        "# 기본 형식 + 기본값 설정\n",
        "def intro_me(name, age, sex = '여자') :\n",
        "  print(f'나의 이름은 {name}입니다.')\n",
        "  print(f'나의 나이은 {age}입니다.')\n",
        "  print(f'나의 성별은 {sex}입니다.')\n",
        "\n",
        "intro_me('지호', '20')"
      ],
      "metadata": {
        "colab": {
          "base_uri": "https://localhost:8080/"
        },
        "id": "G68rXaNfGaQS",
        "outputId": "57269e5d-df67-4234-9345-41705fd3d98b"
      },
      "execution_count": null,
      "outputs": [
        {
          "output_type": "stream",
          "name": "stdout",
          "text": [
            "나의 이름은 지호입니다.\n",
            "나의 나이은 20입니다.\n",
            "나의 성별은 여자입니다.\n"
          ]
        }
      ]
    },
    {
      "cell_type": "code",
      "source": [
        "# 파라메타 추가하기 (디폴트가 있는 파라메타는 맨 뒤로 보내야 한다)\n",
        "def intro_me(name, age, hobby, sex = '여자') :\n",
        "  print(f'나의 이름은 {name}입니다.')\n",
        "  print(f'나의 나이은 {age}입니다.')\n",
        "  print(f'나의 성별은 {sex}입니다.')\n",
        "  print(f'나의 취미은 {hobby}입니다.')\n",
        "\n",
        "intro_me('지호', '20', '운동')"
      ],
      "metadata": {
        "colab": {
          "base_uri": "https://localhost:8080/"
        },
        "id": "4rcSlRyeHMHp",
        "outputId": "cc04c94a-3e5b-4c6d-c568-4b94e1fdd4dd"
      },
      "execution_count": null,
      "outputs": [
        {
          "output_type": "stream",
          "name": "stdout",
          "text": [
            "나의 이름은 지호입니다.\n",
            "나의 나이은 20입니다.\n",
            "나의 성별은 여자입니다.\n",
            "나의 취미은 운동입니다.\n"
          ]
        }
      ]
    },
    {
      "cell_type": "code",
      "source": [
        ""
      ],
      "metadata": {
        "id": "Pd7F9z4iHk5Y"
      },
      "execution_count": null,
      "outputs": []
    }
  ]
}