{
  "nbformat": 4,
  "nbformat_minor": 0,
  "metadata": {
    "colab": {
      "name": "02. 집합(set).ipynb",
      "provenance": [],
      "collapsed_sections": [],
      "toc_visible": true,
      "authorship_tag": "ABX9TyPI+nxUmw/8gHgYKdxbo46E",
      "include_colab_link": true
    },
    "kernelspec": {
      "name": "python3",
      "display_name": "Python 3"
    },
    "language_info": {
      "name": "python"
    }
  },
  "cells": [
    {
      "cell_type": "markdown",
      "metadata": {
        "id": "view-in-github",
        "colab_type": "text"
      },
      "source": [
        "<a href=\"https://colab.research.google.com/github/jiho4399/TIL_Colab/blob/master/02_%EC%A7%91%ED%95%A9(set).ipynb\" target=\"_parent\"><img src=\"https://colab.research.google.com/assets/colab-badge.svg\" alt=\"Open In Colab\"/></a>"
      ]
    },
    {
      "cell_type": "markdown",
      "source": [
        "# 1. 집합(set) 만들기"
      ],
      "metadata": {
        "id": "5P07YiXk2PB-"
      }
    },
    {
      "cell_type": "code",
      "source": [
        "# 집합 만들기 = set([])\n",
        "set1 = set([1, 2, 3])\n",
        "\n",
        "print(set1)\n",
        "print(type(set1))"
      ],
      "metadata": {
        "colab": {
          "base_uri": "https://localhost:8080/"
        },
        "id": "ye490WVB2N5C",
        "outputId": "68b06a13-9bed-4d87-d1fa-729570b35ea3"
      },
      "execution_count": null,
      "outputs": [
        {
          "output_type": "stream",
          "name": "stdout",
          "text": [
            "{1, 2, 3}\n",
            "<class 'set'>\n"
          ]
        }
      ]
    },
    {
      "cell_type": "code",
      "source": [
        "# 집합 만들기 {}\n",
        "\n",
        "set2 = {1, 2, 3}\n",
        "print(set2)\n",
        "print(type(set2))"
      ],
      "metadata": {
        "colab": {
          "base_uri": "https://localhost:8080/"
        },
        "id": "NQukk3FK2Ypq",
        "outputId": "f2c82cbf-db38-40c0-d0bc-0331083d7dae"
      },
      "execution_count": null,
      "outputs": [
        {
          "output_type": "stream",
          "name": "stdout",
          "text": [
            "{1, 2, 3}\n",
            "<class 'set'>\n"
          ]
        }
      ]
    },
    {
      "cell_type": "code",
      "source": [
        "# set은 중복을 허용하지 않는다. 중요!!\n",
        "\n",
        "set3 = set('Hello')\n",
        "\n",
        "set3"
      ],
      "metadata": {
        "colab": {
          "base_uri": "https://localhost:8080/"
        },
        "id": "s4b9KUPf2utI",
        "outputId": "62e19e03-983d-454a-fa3b-b2095f6180e4"
      },
      "execution_count": null,
      "outputs": [
        {
          "output_type": "execute_result",
          "data": {
            "text/plain": [
              "{'H', 'e', 'l', 'o'}"
            ]
          },
          "metadata": {},
          "execution_count": 5
        }
      ]
    },
    {
      "cell_type": "code",
      "source": [
        "## set은 인덱스(순서)가 없기 때문에 인덱스로 접근하려면 list나 tuple로 만들어야 한다.\n",
        "\n",
        "lst = list(set1)\n",
        "\n",
        "print(lst)\n",
        "print(lst[0])\n",
        "\n",
        "t1 = tuple(set1)\n",
        "print(t1)\n",
        "print(t1[0])"
      ],
      "metadata": {
        "colab": {
          "base_uri": "https://localhost:8080/"
        },
        "id": "H3nUReA33HKi",
        "outputId": "fd78bbdf-2386-4e9a-df40-c73a6ac8d1ce"
      },
      "execution_count": null,
      "outputs": [
        {
          "output_type": "stream",
          "name": "stdout",
          "text": [
            "[1, 2, 3]\n",
            "1\n",
            "(1, 2, 3)\n",
            "1\n"
          ]
        }
      ]
    },
    {
      "cell_type": "markdown",
      "source": [
        "# 2. set 교집합, 합집합, 차집합"
      ],
      "metadata": {
        "id": "sdf-Fva74qmR"
      }
    },
    {
      "cell_type": "code",
      "source": [
        "## 교집합\n",
        "\n",
        "s1 = set([1, 2, 3, 4, 5, 6]) #set\n",
        "s2 = {4, 5, 6, 7, 8, 9} #set\n",
        "\n",
        "s1 & s2"
      ],
      "metadata": {
        "colab": {
          "base_uri": "https://localhost:8080/"
        },
        "id": "tlGF2Ryv3a5l",
        "outputId": "4f6f5d12-d4d2-4a60-df90-e6b6981c669b"
      },
      "execution_count": null,
      "outputs": [
        {
          "output_type": "execute_result",
          "data": {
            "text/plain": [
              "{4, 5, 6}"
            ]
          },
          "metadata": {},
          "execution_count": 29
        }
      ]
    },
    {
      "cell_type": "code",
      "source": [
        "## 합집합\n",
        "print(s1.union(s2))\n",
        "print(s1 | s2)"
      ],
      "metadata": {
        "colab": {
          "base_uri": "https://localhost:8080/"
        },
        "id": "NqHHmBD-3qlF",
        "outputId": "2aa68b62-d4f6-4dbd-b017-133c3f1dce57"
      },
      "execution_count": null,
      "outputs": [
        {
          "output_type": "stream",
          "name": "stdout",
          "text": [
            "{1, 2, 3, 4, 5, 6, 7, 8, 9}\n",
            "{1, 2, 3, 4, 5, 6, 7, 8, 9}\n"
          ]
        }
      ]
    },
    {
      "cell_type": "code",
      "source": [
        "## 차집합\n",
        "s2 - s1"
      ],
      "metadata": {
        "colab": {
          "base_uri": "https://localhost:8080/"
        },
        "id": "qRMrvfzP43LA",
        "outputId": "02cf1fe1-7ed7-47b0-e671-243ea43ca061"
      },
      "execution_count": null,
      "outputs": [
        {
          "output_type": "execute_result",
          "data": {
            "text/plain": [
              "{7, 8, 9}"
            ]
          },
          "metadata": {},
          "execution_count": 21
        }
      ]
    },
    {
      "cell_type": "markdown",
      "source": [
        "# 3. 집합 값 수정하기 (추가, 삭제)"
      ],
      "metadata": {
        "id": "PyoClBf95Uwc"
      }
    },
    {
      "cell_type": "code",
      "source": [
        "# 집합에 값 하나 추가하기\n",
        "\n",
        "print(s1)\n",
        "s1.add(7)\n",
        "print(s1)"
      ],
      "metadata": {
        "colab": {
          "base_uri": "https://localhost:8080/"
        },
        "id": "k2mIh0bO5UEc",
        "outputId": "72b0e5bd-4113-4d3d-e63d-5b685a14b968"
      },
      "execution_count": null,
      "outputs": [
        {
          "output_type": "stream",
          "name": "stdout",
          "text": [
            "{1, 2, 3, 4, 5, 6}\n",
            "{1, 2, 3, 4, 5, 6, 7}\n"
          ]
        }
      ]
    },
    {
      "cell_type": "code",
      "source": [
        "# 집합에 값 여러개 추가하기\n",
        "# 집합을 하나 더 생성하여 .update\n",
        "\n",
        "s3 = {10, 11, 12}\n",
        "s1.update(s3)\n",
        "\n",
        "s1"
      ],
      "metadata": {
        "colab": {
          "base_uri": "https://localhost:8080/"
        },
        "id": "sTlaM8T-5cpo",
        "outputId": "3a975725-a55a-4719-a9e3-a17080ebac06"
      },
      "execution_count": null,
      "outputs": [
        {
          "output_type": "execute_result",
          "data": {
            "text/plain": [
              "{1, 2, 3, 4, 5, 6, 7, 10, 11, 12}"
            ]
          },
          "metadata": {},
          "execution_count": 32
        }
      ]
    },
    {
      "cell_type": "code",
      "source": [
        "# 집합에서 특정 값'4' 빼기\n",
        "\n",
        "s1.remove(4)\n",
        "\n",
        "s1"
      ],
      "metadata": {
        "colab": {
          "base_uri": "https://localhost:8080/"
        },
        "id": "AzwnMTwO6DGt",
        "outputId": "21858022-544f-442d-fcb6-93ad0d040d2c"
      },
      "execution_count": null,
      "outputs": [
        {
          "output_type": "execute_result",
          "data": {
            "text/plain": [
              "{1, 2, 3, 5, 6, 7, 10, 11, 12}"
            ]
          },
          "metadata": {},
          "execution_count": 33
        }
      ]
    },
    {
      "cell_type": "markdown",
      "source": [
        "# 4. 불리언 (True / False)\n",
        "\n",
        "- 주로 if, while 문에서 쓰임\n",
        "\n",
        "```\n",
        "bool\n",
        "True :  a = True (명시적)\n",
        "        a = 1 (암묵적)\n",
        "False : a = Falfe (명시적)\n",
        "        0 (숫자) (암묵적)\n",
        "        None (암묵적)\n",
        "        \" (암묵적)\n",
        "\n",
        "```"
      ],
      "metadata": {
        "id": "vT6e_SH9-w0K"
      }
    },
    {
      "cell_type": "code",
      "source": [
        "# T와 F는 대문자!!!\n",
        "a = True\n",
        "b = False"
      ],
      "metadata": {
        "id": "FdYPBKNp6SHK"
      },
      "execution_count": null,
      "outputs": []
    },
    {
      "cell_type": "code",
      "source": [
        "print(type(a))\n",
        "print(type(b))"
      ],
      "metadata": {
        "colab": {
          "base_uri": "https://localhost:8080/"
        },
        "id": "oxuTJy45-9rE",
        "outputId": "6c1ae0c7-d907-4869-b965-b90af0ab5f7b"
      },
      "execution_count": null,
      "outputs": [
        {
          "output_type": "stream",
          "name": "stdout",
          "text": [
            "<class 'bool'>\n",
            "<class 'bool'>\n"
          ]
        }
      ]
    },
    {
      "cell_type": "markdown",
      "source": [
        "= : assignment\n",
        "\n",
        "== : equal"
      ],
      "metadata": {
        "id": "ctQTxIOc_e18"
      }
    },
    {
      "cell_type": "code",
      "source": [
        "# 맞는지 물어봄 (결과 값 : True / False)\n",
        "\n",
        "print(1 == 1)\n",
        "print(2 > 1)\n",
        "print(2 < 1)"
      ],
      "metadata": {
        "colab": {
          "base_uri": "https://localhost:8080/"
        },
        "id": "2mdN9dgy_GOs",
        "outputId": "1c40431b-2840-4891-b14e-3fc1982f35eb"
      },
      "execution_count": null,
      "outputs": [
        {
          "output_type": "stream",
          "name": "stdout",
          "text": [
            "True\n",
            "True\n",
            "False\n"
          ]
        }
      ]
    },
    {
      "cell_type": "code",
      "source": [
        "# a의 값이 없어질 때 까지 끝에서부터 값을 뽑아냄\n",
        "\n",
        "a = [1, 2, 3, 4]\n",
        "\n",
        "while a:\n",
        "  print(a.pop())"
      ],
      "metadata": {
        "colab": {
          "base_uri": "https://localhost:8080/"
        },
        "id": "X7VWiiBV_0H6",
        "outputId": "f252645e-4874-4b77-a981-7b5ea6c418f4"
      },
      "execution_count": null,
      "outputs": [
        {
          "output_type": "stream",
          "name": "stdout",
          "text": [
            "4\n",
            "3\n",
            "2\n",
            "1\n"
          ]
        }
      ]
    },
    {
      "cell_type": "code",
      "source": [
        "# 리스트 안에 값이 없으므로 거짓 출력\n",
        "# 주로 if, while 문에서 쓰임\n",
        "\n",
        "if []:\n",
        "  print('참')\n",
        "else :\n",
        "  print('거짓')"
      ],
      "metadata": {
        "colab": {
          "base_uri": "https://localhost:8080/"
        },
        "id": "0mfXZ_0v_5Yo",
        "outputId": "1da98dfe-179b-46ac-bc1b-c75caba7b8cb"
      },
      "execution_count": null,
      "outputs": [
        {
          "output_type": "stream",
          "name": "stdout",
          "text": [
            "거짓\n"
          ]
        }
      ]
    },
    {
      "cell_type": "code",
      "source": [
        "# 리스트 안에 값이 있으므로 참 출력\n",
        "\n",
        "if [1, 2, 3]:\n",
        "  print('참')\n",
        "else :\n",
        "  print('거짓')"
      ],
      "metadata": {
        "colab": {
          "base_uri": "https://localhost:8080/"
        },
        "id": "sGfLaIeTAwfo",
        "outputId": "77165150-05c8-4b32-d839-be89c99c6081"
      },
      "execution_count": null,
      "outputs": [
        {
          "output_type": "stream",
          "name": "stdout",
          "text": [
            "참\n"
          ]
        }
      ]
    },
    {
      "cell_type": "code",
      "source": [
        "# 값이 있으므로 참 출력\n",
        "bool('python')"
      ],
      "metadata": {
        "colab": {
          "base_uri": "https://localhost:8080/"
        },
        "id": "Bwls8N_qBOOV",
        "outputId": "baa8d5eb-70df-4e76-c052-81f33684efe0"
      },
      "execution_count": null,
      "outputs": [
        {
          "output_type": "execute_result",
          "data": {
            "text/plain": [
              "True"
            ]
          },
          "metadata": {},
          "execution_count": 47
        }
      ]
    },
    {
      "cell_type": "code",
      "source": [
        "# 값이 없으므로 거짓 출력\n",
        "print(bool())\n",
        "print(bool(''))"
      ],
      "metadata": {
        "colab": {
          "base_uri": "https://localhost:8080/"
        },
        "id": "nVKYn3r5BnNu",
        "outputId": "926f3171-7a82-414c-de5c-90801eae3d03"
      },
      "execution_count": null,
      "outputs": [
        {
          "output_type": "stream",
          "name": "stdout",
          "text": [
            "False\n",
            "False\n"
          ]
        }
      ]
    },
    {
      "cell_type": "markdown",
      "source": [
        "# 5. 변수"
      ],
      "metadata": {
        "id": "ffI7l7ZICfTC"
      }
    },
    {
      "cell_type": "code",
      "source": [
        "# 변수 만들기 \n",
        "# 변수 : 데이터를 담는 그릇\n",
        "\n",
        "a = 1\n",
        "b = 'python'\n",
        "c = [1, 2, 3]"
      ],
      "metadata": {
        "id": "H5KfvWlABsmj"
      },
      "execution_count": null,
      "outputs": []
    },
    {
      "cell_type": "code",
      "source": [
        "# 변수(가 의미하는 데이터)의 메모리 상 주소\n",
        "id(c)"
      ],
      "metadata": {
        "colab": {
          "base_uri": "https://localhost:8080/"
        },
        "id": "q0z-2QROCuAT",
        "outputId": "d324b4c5-38ca-4125-aa94-0d3fbededfdb"
      },
      "execution_count": null,
      "outputs": [
        {
          "output_type": "execute_result",
          "data": {
            "text/plain": [
              "140170810289280"
            ]
          },
          "metadata": {},
          "execution_count": 59
        }
      ]
    },
    {
      "cell_type": "code",
      "source": [
        "# c를 b에 넣으면 b의 주소값이 c의 주소값으로 바뀜\n",
        "b = c\n",
        "print(id(b))\n",
        "\n",
        "# b와 c가 같냐고 묻기 (주소가 기준이 됨)\n",
        "print(b is c)"
      ],
      "metadata": {
        "colab": {
          "base_uri": "https://localhost:8080/"
        },
        "id": "TJcyrvWRC2EN",
        "outputId": "3caaea88-092f-4159-8935-2dea5ce4dbca"
      },
      "execution_count": null,
      "outputs": [
        {
          "output_type": "stream",
          "name": "stdout",
          "text": [
            "140170810289280\n",
            "True\n"
          ]
        }
      ]
    },
    {
      "cell_type": "code",
      "source": [
        ""
      ],
      "metadata": {
        "id": "t9pav1aU1Kkx"
      },
      "execution_count": null,
      "outputs": []
    },
    {
      "cell_type": "code",
      "source": [
        "# b랑 c의 주소가 같아졌기 때문에 c의 데이터를 바꾸면 b의 데이터도 바뀜\n",
        "\n",
        "print(c)\n",
        "c[1] = 4\n",
        "print(c)\n",
        "print(b)"
      ],
      "metadata": {
        "colab": {
          "base_uri": "https://localhost:8080/"
        },
        "id": "_Pv12LtcDLnm",
        "outputId": "60cf520a-79af-44e9-c0d5-9ee9f50312d4"
      },
      "execution_count": null,
      "outputs": [
        {
          "output_type": "stream",
          "name": "stdout",
          "text": [
            "[1, 2, 3]\n",
            "[1, 4, 3]\n",
            "[1, 4, 3]\n"
          ]
        }
      ]
    },
    {
      "cell_type": "markdown",
      "source": [
        "a와 b 새로 생성!!"
      ],
      "metadata": {
        "id": "eDCbT2gGFc8H"
      }
    },
    {
      "cell_type": "code",
      "source": [
        "\n",
        "\n",
        "a = [1, 2, 3]\n",
        "b = a[:] #b는 a의 값들만 복사하여 만듦 그래서 데이터 주소는 바뀌지 않음\n",
        "\n",
        "print(b)\n",
        "print(c)"
      ],
      "metadata": {
        "colab": {
          "base_uri": "https://localhost:8080/"
        },
        "id": "3dTso31aDYAB",
        "outputId": "70bbd437-45bc-4232-a17d-81aa71f99d1b"
      },
      "execution_count": null,
      "outputs": [
        {
          "output_type": "stream",
          "name": "stdout",
          "text": [
            "[1, 2, 3]\n",
            "[1, 4, 3]\n"
          ]
        }
      ]
    },
    {
      "cell_type": "code",
      "source": [
        "## b는 a의 값들만 복사하여 만듦. 그래서 데이터 주소는 바뀌지 않음\n",
        "\n",
        "a[1] = 0\n",
        "\n",
        "print(a)\n",
        "print(b)\n",
        "\n",
        "#그래서\n",
        "print(b is a)"
      ],
      "metadata": {
        "colab": {
          "base_uri": "https://localhost:8080/"
        },
        "id": "eBmjQeXFEAW4",
        "outputId": "0d44ffaf-e672-409e-cde0-a106e72db3c5"
      },
      "execution_count": null,
      "outputs": [
        {
          "output_type": "stream",
          "name": "stdout",
          "text": [
            "[1, 0, 3]\n",
            "[1, 2, 3]\n",
            "False\n"
          ]
        }
      ]
    },
    {
      "cell_type": "code",
      "source": [
        "print(id(a))\n",
        "print(id(b))\n",
        "print(id(c))"
      ],
      "metadata": {
        "colab": {
          "base_uri": "https://localhost:8080/"
        },
        "id": "dm_ZJJtFEHiP",
        "outputId": "91ac02cb-b653-403e-d712-eef6ae398b7e"
      },
      "execution_count": null,
      "outputs": [
        {
          "output_type": "stream",
          "name": "stdout",
          "text": [
            "140170810110032\n",
            "140170810482032\n",
            "140170810289280\n"
          ]
        }
      ]
    },
    {
      "cell_type": "markdown",
      "source": [
        "변수 만들기 방법 2"
      ],
      "metadata": {
        "id": "jldXiuMAFsTH"
      }
    },
    {
      "cell_type": "code",
      "source": [
        "# 튜플\n",
        "\n",
        "(a, b) = 'Python', 'Java'\n",
        "print(a)\n",
        "print(b)"
      ],
      "metadata": {
        "colab": {
          "base_uri": "https://localhost:8080/"
        },
        "id": "DjhisA4NErHf",
        "outputId": "572bbdbd-a82a-469c-a7b1-bf768627c04f"
      },
      "execution_count": null,
      "outputs": [
        {
          "output_type": "stream",
          "name": "stdout",
          "text": [
            "Python\n",
            "Java\n"
          ]
        }
      ]
    },
    {
      "cell_type": "code",
      "source": [
        "# 리스트\n",
        "\n",
        "[a, b] = ['Python', 'Java']\n",
        "print(a)\n",
        "print(b)"
      ],
      "metadata": {
        "colab": {
          "base_uri": "https://localhost:8080/"
        },
        "id": "sDqwX8uSF0Tk",
        "outputId": "ed67cac1-bb26-4d69-d1ef-c089e8059d9a"
      },
      "execution_count": null,
      "outputs": [
        {
          "output_type": "stream",
          "name": "stdout",
          "text": [
            "Python\n",
            "Java\n"
          ]
        }
      ]
    },
    {
      "cell_type": "code",
      "source": [
        "# 같은 값 넣기\n",
        "a = b = 'python'\n",
        "\n",
        "print(a)\n",
        "print(b)\n",
        "\n",
        "print(a is b)"
      ],
      "metadata": {
        "colab": {
          "base_uri": "https://localhost:8080/"
        },
        "id": "4zKF3rQkF_1g",
        "outputId": "f360eebe-8dd2-451a-9c94-85a1dc4f7ef5"
      },
      "execution_count": null,
      "outputs": [
        {
          "output_type": "stream",
          "name": "stdout",
          "text": [
            "python\n",
            "python\n",
            "True\n"
          ]
        }
      ]
    },
    {
      "cell_type": "code",
      "source": [
        "# 값 교차하여 넣기 (파이썬에서만)\n",
        "\n",
        "a = 3\n",
        "b = 5\n",
        "\n",
        "a, b = b, a\n",
        "\n",
        "a, b"
      ],
      "metadata": {
        "colab": {
          "base_uri": "https://localhost:8080/"
        },
        "id": "m-3J0GLAGKBY",
        "outputId": "effb2726-b4d4-4d7c-b8f2-cb8689c89280"
      },
      "execution_count": null,
      "outputs": [
        {
          "output_type": "execute_result",
          "data": {
            "text/plain": [
              "(5, 3)"
            ]
          },
          "metadata": {},
          "execution_count": 77
        }
      ]
    },
    {
      "cell_type": "code",
      "source": [
        ""
      ],
      "metadata": {
        "id": "FsVqF5huGXC1"
      },
      "execution_count": null,
      "outputs": []
    },
    {
      "cell_type": "code",
      "source": [
        ""
      ],
      "metadata": {
        "id": "rVKr_9aZHFW6"
      },
      "execution_count": null,
      "outputs": []
    }
  ]
}