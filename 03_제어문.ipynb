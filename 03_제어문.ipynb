{
  "nbformat": 4,
  "nbformat_minor": 0,
  "metadata": {
    "colab": {
      "name": "03. 제어문.ipynb",
      "provenance": [],
      "collapsed_sections": [],
      "toc_visible": true,
      "authorship_tag": "ABX9TyOKZ1IrMk0Vk8whvgAyaaAo",
      "include_colab_link": true
    },
    "kernelspec": {
      "name": "python3",
      "display_name": "Python 3"
    },
    "language_info": {
      "name": "python"
    }
  },
  "cells": [
    {
      "cell_type": "markdown",
      "metadata": {
        "id": "view-in-github",
        "colab_type": "text"
      },
      "source": [
        "<a href=\"https://colab.research.google.com/github/jiho4399/TIL_Colab/blob/master/03_%EC%A0%9C%EC%96%B4%EB%AC%B8.ipynb\" target=\"_parent\"><img src=\"https://colab.research.google.com/assets/colab-badge.svg\" alt=\"Open In Colab\"/></a>"
      ]
    },
    {
      "cell_type": "markdown",
      "source": [
        "# 1. if 문\n",
        "- 들여쓰기가 매우 중요!!!!!\n",
        "```\n",
        "if 조건문 :\n",
        "     실행문\n",
        "else : \n",
        "     실행문\n",
        "\n",
        "```"
      ],
      "metadata": {
        "id": "HZUgYXyn2NeX"
      }
    },
    {
      "cell_type": "markdown",
      "source": [
        ""
      ],
      "metadata": {
        "id": "4MK1NGP9l8sM"
      }
    },
    {
      "cell_type": "code",
      "execution_count": null,
      "metadata": {
        "colab": {
          "base_uri": "https://localhost:8080/"
        },
        "id": "8ibpT-cP2IKQ",
        "outputId": "2523db1a-4cea-42e8-8578-2d3f45153927"
      },
      "outputs": [
        {
          "output_type": "stream",
          "name": "stdout",
          "text": [
            "다이어트\n",
            "운동 하세요!\n"
          ]
        }
      ],
      "source": [
        "IsOverweight = True\n",
        "\n",
        "if IsOverweight :\n",
        "  print('다이어트')\n",
        "  print('운동 하세요!')\n",
        "else : \n",
        "  print('마음껏 드세요!')"
      ]
    },
    {
      "cell_type": "code",
      "source": [
        "IsOverweight = False\n",
        "\n",
        "if IsOverweight :\n",
        "  print('다이어트')\n",
        "  print('운동 하세요!')\n",
        "else : \n",
        "  print('마음껏 드세요!')"
      ],
      "metadata": {
        "colab": {
          "base_uri": "https://localhost:8080/"
        },
        "id": "nVjL-yAS3T8T",
        "outputId": "80b048da-97dd-4097-e590-995cb084b982"
      },
      "execution_count": null,
      "outputs": [
        {
          "output_type": "stream",
          "name": "stdout",
          "text": [
            "마음껏 드세요!\n"
          ]
        }
      ]
    },
    {
      "cell_type": "code",
      "source": [
        "# 불리언 타입 1 \n",
        "\n",
        "x = 3\n",
        "y = 2\n",
        "\n",
        "x > y"
      ],
      "metadata": {
        "colab": {
          "base_uri": "https://localhost:8080/"
        },
        "id": "JRTe3QQ13bXD",
        "outputId": "13eb4f7c-e040-4fed-848b-9f96a56d7370"
      },
      "execution_count": null,
      "outputs": [
        {
          "output_type": "execute_result",
          "data": {
            "text/plain": [
              "True"
            ]
          },
          "metadata": {},
          "execution_count": 7
        }
      ]
    },
    {
      "cell_type": "code",
      "source": [
        "# 불리언 타입 2\n",
        "x < y"
      ],
      "metadata": {
        "colab": {
          "base_uri": "https://localhost:8080/"
        },
        "id": "JJDppQEO5CSY",
        "outputId": "f89a3547-785e-4e41-c9f7-8cb99a057dc0"
      },
      "execution_count": null,
      "outputs": [
        {
          "output_type": "execute_result",
          "data": {
            "text/plain": [
              "False"
            ]
          },
          "metadata": {},
          "execution_count": 8
        }
      ]
    },
    {
      "cell_type": "code",
      "source": [
        "# if 거짓일 때\n",
        "weight = 70\n",
        "\n",
        "if weight > 80 :\n",
        "  print('다이어트')\n",
        "  print('운동 하세요!')\n",
        "else : \n",
        "  print('마음껏 드세요!')"
      ],
      "metadata": {
        "colab": {
          "base_uri": "https://localhost:8080/"
        },
        "id": "SpZ8Rv9n5K47",
        "outputId": "49ae5e51-7d53-4fcc-f5ad-77858f53facc"
      },
      "execution_count": null,
      "outputs": [
        {
          "output_type": "stream",
          "name": "stdout",
          "text": [
            "마음껏 드세요!\n"
          ]
        }
      ]
    },
    {
      "cell_type": "code",
      "source": [
        "# if 참일 때\n",
        "weight = 90\n",
        "\n",
        "if weight > 80 :\n",
        "  print('다이어트')\n",
        "  print('운동 하세요!')\n",
        "else : \n",
        "  print('마음껏 드세요!')"
      ],
      "metadata": {
        "colab": {
          "base_uri": "https://localhost:8080/"
        },
        "id": "NJ1w3K6K5bWJ",
        "outputId": "a304ad06-9cb3-445c-a4c1-36f7a3c1540a"
      },
      "execution_count": null,
      "outputs": [
        {
          "output_type": "stream",
          "name": "stdout",
          "text": [
            "다이어트\n",
            "운동 하세요!\n"
          ]
        }
      ]
    },
    {
      "cell_type": "markdown",
      "source": [
        "## or / and\n",
        "- if 조건이 2가지일 때"
      ],
      "metadata": {
        "id": "lfufTugX9PtM"
      }
    },
    {
      "cell_type": "code",
      "source": [
        "# if 조건 2가지 일 때 (or)\n",
        "weight = 70\n",
        "hasDisease = True\n",
        "\n",
        "if weight > 80 or hasDisease :\n",
        "  print('다이어트')\n",
        "  print('운동 하세요!')\n",
        "else : \n",
        "  print('마음껏 드세요!')"
      ],
      "metadata": {
        "colab": {
          "base_uri": "https://localhost:8080/"
        },
        "id": "upLi8UXk5qIW",
        "outputId": "da527e58-a3fe-4f1e-c173-b66c6917ef9c"
      },
      "execution_count": null,
      "outputs": [
        {
          "output_type": "stream",
          "name": "stdout",
          "text": [
            "다이어트\n",
            "운동 하세요!\n"
          ]
        }
      ]
    },
    {
      "cell_type": "code",
      "source": [
        "# if 조건 2가지 일 때 (and)\n",
        "weight = 70\n",
        "hasDisease = True\n",
        "\n",
        "if weight > 80 and hasDisease :\n",
        "  print('다이어트')\n",
        "  print('운동 하세요!')\n",
        "else : \n",
        "  print('마음껏 드세요!')"
      ],
      "metadata": {
        "colab": {
          "base_uri": "https://localhost:8080/"
        },
        "id": "-oDZr7iW59QA",
        "outputId": "fad91a45-58d4-4f58-c32f-e6a35660b0d6"
      },
      "execution_count": null,
      "outputs": [
        {
          "output_type": "stream",
          "name": "stdout",
          "text": [
            "마음껏 드세요!\n"
          ]
        }
      ]
    },
    {
      "cell_type": "markdown",
      "source": [
        "## **if 조건문 작성 TIP!!!**\n",
        "```\n",
        "or 문에서는 참일 가능성이 많은 조건이 앞으로 오게 작성하고\n",
        "and 문에서는 둘다 참이여야 하므로 거짓일 가능성이 많은 조건이 앞으로 오게 작성!\n",
        "```"
      ],
      "metadata": {
        "id": "Hk4a_BIQ6z0S"
      }
    },
    {
      "cell_type": "code",
      "source": [
        "# 1이 리스트 안에 있는지 확인하기\n",
        "print(1 in [1, 2, 3])\n",
        "\n",
        "# 1이 리스트 안에 없는지 확인하기\n",
        "print(1 not in [1, 2, 3])\n",
        "\n",
        "#a가 튜플 안에 있는지 확인하기\n",
        "print('a' in ('a', 'b', 'c'))"
      ],
      "metadata": {
        "colab": {
          "base_uri": "https://localhost:8080/"
        },
        "id": "bmo3t8Fh6T92",
        "outputId": "7a0048a0-9e1e-4909-b061-c38c367717f7"
      },
      "execution_count": null,
      "outputs": [
        {
          "output_type": "stream",
          "name": "stdout",
          "text": [
            "True\n",
            "False\n",
            "True\n"
          ]
        }
      ]
    },
    {
      "cell_type": "markdown",
      "source": [
        "## pass\n",
        "- (조건이 참일 때) 아무것도 출력하지 않고 싶을 때 \n",
        "- 개발 중에 이 로직이 동작되는지 확인하고 싶을 때 주로 사용"
      ],
      "metadata": {
        "id": "vVLayAYI9dtf"
      }
    },
    {
      "cell_type": "code",
      "source": [
        "weight = 70\n",
        "hasDisease = True\n",
        "\n",
        "if weight > 80 or hasDisease :\n",
        "  pass\n",
        "else : \n",
        "  print('마음껏 드세요!')"
      ],
      "metadata": {
        "id": "Xpq-DCUV7hyz"
      },
      "execution_count": null,
      "outputs": []
    },
    {
      "cell_type": "markdown",
      "source": [
        "## elif\n",
        "- 조건을 추가하고 싶은 경우\n",
        "- elif(여러개 사용 가능 but 많이 사용하면 복잡해짐)\n",
        "- 조건의 순서도 중요함 (코드 짤 때 먼저 확인해야하는 조건문을 위에 작성!!)"
      ],
      "metadata": {
        "id": "WtiP8owM9mte"
      }
    },
    {
      "cell_type": "code",
      "source": [
        "weight = 75\n",
        "hasDisease = True\n",
        "\n",
        "if weight > 80 :\n",
        "  print('다이어트')\n",
        "  print('운동 하세요!')\n",
        "\n",
        "elif hasDisease :\n",
        "  print('의사와 상담하세요!')\n",
        "\n",
        "else : \n",
        "  print('마음껏 드세요!')"
      ],
      "metadata": {
        "colab": {
          "base_uri": "https://localhost:8080/"
        },
        "id": "483L-8Ti7sib",
        "outputId": "068b026b-5ab6-4a12-babe-bad477b1124a"
      },
      "execution_count": null,
      "outputs": [
        {
          "output_type": "stream",
          "name": "stdout",
          "text": [
            "의사와 상담하세요!\n"
          ]
        }
      ]
    },
    {
      "cell_type": "markdown",
      "source": [
        "## if문 작성 방법 추가\n",
        "- 추천하진 않으나 알고는 있어야 함\n",
        "- 한 줄로도 작성 가능하나 가독성이 떨어져 좋지 않음"
      ],
      "metadata": {
        "id": "3hdk2TDE-4Xn"
      }
    },
    {
      "cell_type": "code",
      "source": [
        "주머니 = ['현금', '신용카드', '신분증']\n",
        "\n",
        "if '현금' in 주머니 : pass\n",
        "else : print('주머니에 뭐 있냐?')"
      ],
      "metadata": {
        "id": "-N_PIWJE74J5"
      },
      "execution_count": null,
      "outputs": []
    },
    {
      "cell_type": "code",
      "source": [
        "score = 80\n",
        "\n",
        "result = 'pass' if score >= 80 else 'fail'\n",
        "\n",
        "print(result)"
      ],
      "metadata": {
        "colab": {
          "base_uri": "https://localhost:8080/"
        },
        "id": "4mXwtHOB-SHy",
        "outputId": "2ea07c86-a643-474b-b05d-7399395b0ec4"
      },
      "execution_count": null,
      "outputs": [
        {
          "output_type": "stream",
          "name": "stdout",
          "text": [
            "pass\n"
          ]
        }
      ]
    },
    {
      "cell_type": "code",
      "source": [
        ""
      ],
      "metadata": {
        "id": "EHK_2pbT-2RJ"
      },
      "execution_count": null,
      "outputs": []
    },
    {
      "cell_type": "code",
      "source": [
        "print(3 == 5)"
      ],
      "metadata": {
        "colab": {
          "base_uri": "https://localhost:8080/"
        },
        "id": "K0xbNKrOCmY4",
        "outputId": "50116f80-1942-4055-96ff-e18e8a667105"
      },
      "execution_count": null,
      "outputs": [
        {
          "output_type": "stream",
          "name": "stdout",
          "text": [
            "False\n"
          ]
        }
      ]
    },
    {
      "cell_type": "code",
      "source": [
        "x = 3\n",
        "\n",
        "print(1 < x < 5)"
      ],
      "metadata": {
        "colab": {
          "base_uri": "https://localhost:8080/"
        },
        "id": "7ibWL3unCoR3",
        "outputId": "b82ce13e-bb1c-41a5-e596-8a6023b6ec9c"
      },
      "execution_count": null,
      "outputs": [
        {
          "output_type": "stream",
          "name": "stdout",
          "text": [
            "True\n"
          ]
        }
      ]
    },
    {
      "cell_type": "code",
      "source": [
        "print((3 == 3) and (4 != 3))"
      ],
      "metadata": {
        "colab": {
          "base_uri": "https://localhost:8080/"
        },
        "id": "QC6wBdwMCrRs",
        "outputId": "67b2ea10-fb7b-49f1-9668-a56fa07c3ace"
      },
      "execution_count": null,
      "outputs": [
        {
          "output_type": "stream",
          "name": "stdout",
          "text": [
            "True\n"
          ]
        }
      ]
    },
    {
      "cell_type": "code",
      "source": [
        "print(3 >= 4)"
      ],
      "metadata": {
        "colab": {
          "base_uri": "https://localhost:8080/"
        },
        "id": "d7a2aB4KC3-f",
        "outputId": "013c81ba-7dfb-421b-8a24-a810584c81dd"
      },
      "execution_count": null,
      "outputs": [
        {
          "output_type": "stream",
          "name": "stdout",
          "text": [
            "False\n"
          ]
        }
      ]
    },
    {
      "cell_type": "code",
      "source": [
        "if 4 < 3 :\n",
        "  print('Hi--')\n",
        "\n",
        "else : \n",
        "  print('Hi2--')"
      ],
      "metadata": {
        "colab": {
          "base_uri": "https://localhost:8080/"
        },
        "id": "UUuZXCe0DZke",
        "outputId": "ed09b67c-33ac-48f5-933b-e03f3ee9be97"
      },
      "execution_count": null,
      "outputs": [
        {
          "output_type": "stream",
          "name": "stdout",
          "text": [
            "Hi2--\n"
          ]
        }
      ]
    },
    {
      "cell_type": "code",
      "source": [
        "if True :\n",
        "  print('1')\n",
        "\n",
        "else : \n",
        "  print('2')\n",
        "\n",
        "print('3')"
      ],
      "metadata": {
        "colab": {
          "base_uri": "https://localhost:8080/"
        },
        "id": "A4hjs8qsDmNW",
        "outputId": "69c1edf0-f746-454d-f610-84fef6988691"
      },
      "execution_count": null,
      "outputs": [
        {
          "output_type": "stream",
          "name": "stdout",
          "text": [
            "1\n",
            "3\n"
          ]
        }
      ]
    },
    {
      "cell_type": "markdown",
      "source": [
        "## if 안에 if문"
      ],
      "metadata": {
        "id": "wjId8uN-E9g8"
      }
    },
    {
      "cell_type": "code",
      "source": [
        "if True : \n",
        "  if False :\n",
        "    print(1)\n",
        "  else : \n",
        "    print(2)\n",
        "else : \n",
        "  print(3)\n",
        "\n",
        "print(4)"
      ],
      "metadata": {
        "colab": {
          "base_uri": "https://localhost:8080/"
        },
        "id": "J53mRaIMEBq1",
        "outputId": "eeeccc92-09c5-4e0b-a036-3b570f7fa17b"
      },
      "execution_count": null,
      "outputs": [
        {
          "output_type": "stream",
          "name": "stdout",
          "text": [
            "2\n",
            "4\n"
          ]
        }
      ]
    },
    {
      "cell_type": "markdown",
      "source": [
        "# while 문\n",
        "```\n",
        "while 조건문 :    \n",
        "  실행문 ...\n",
        "```"
      ],
      "metadata": {
        "id": "mIGwHxIfFtot"
      }
    },
    {
      "cell_type": "code",
      "source": [
        "tryCnt = 0\n",
        "\n",
        "while tryCnt < 10 :\n",
        "  tryCnt += 1\n",
        "  print(f'{tryCnt}번 노력했습니다.')\n",
        "  if tryCnt >= 10 :\n",
        "    print('나무 넘어간다..!')"
      ],
      "metadata": {
        "colab": {
          "base_uri": "https://localhost:8080/"
        },
        "id": "ZYyGMM-NE66v",
        "outputId": "895ef82a-762d-4c68-b2d3-00f88ff5f5fa"
      },
      "execution_count": null,
      "outputs": [
        {
          "output_type": "stream",
          "name": "stdout",
          "text": [
            "1번 노력했습니다.\n",
            "2번 노력했습니다.\n",
            "3번 노력했습니다.\n",
            "4번 노력했습니다.\n",
            "5번 노력했습니다.\n",
            "6번 노력했습니다.\n",
            "7번 노력했습니다.\n",
            "8번 노력했습니다.\n",
            "9번 노력했습니다.\n",
            "10번 노력했습니다.\n",
            "나무 넘어간다..!\n"
          ]
        }
      ]
    },
    {
      "cell_type": "code",
      "source": [
        "prompt = \"\"\"\n",
        "  1. 추가\n",
        "  2. 삭제\n",
        "  3. 보기\n",
        "  4. 그만두기\n",
        "  번호를 입력하세요. : \n",
        "\"\"\"\n",
        "\n",
        "num = 0 # num이라는 변수를 생성 (4만 아니라면 가능)\n",
        "\n",
        "while num != 4 :\n",
        "  print(prompt)\n",
        "  num = int(input()) # 사용자가 선택할 수 있게 출력해줌\n",
        "  print(f'선택한 번호 : {num}')"
      ],
      "metadata": {
        "colab": {
          "base_uri": "https://localhost:8080/"
        },
        "id": "wVqP33aLGM4m",
        "outputId": "32acd2a5-ea0d-4f56-c21c-7bd1ee5cbd4d"
      },
      "execution_count": null,
      "outputs": [
        {
          "output_type": "stream",
          "name": "stdout",
          "text": [
            "\n",
            "  1. 추가\n",
            "  2. 삭제\n",
            "  3. 보기\n",
            "  4. 그만두기\n",
            "  번호를 입력하세요. : \n",
            "\n",
            "4\n",
            "선택한 번호 : 4\n"
          ]
        }
      ]
    },
    {
      "cell_type": "code",
      "source": [
        "prompt = \"\"\"\n",
        "  1. 추가\n",
        "  2. 삭제\n",
        "  3. 보기\n",
        "  4. 그만두기\n",
        "  번호를 입력하세요. : \n",
        "\"\"\"\n",
        "\n",
        "num = 0 # num이라는 변수를 생성 (4만 아니라면 가능)\n",
        "\n",
        "while num != 4 :\n",
        "  #print(prompt)\n",
        "  num = int(input(prompt))  # 사용자가 선택할 수 있게 출력해줌\n",
        "  print(f'선택한 번호 : {num}')"
      ],
      "metadata": {
        "colab": {
          "base_uri": "https://localhost:8080/"
        },
        "id": "zFx1kD5hHNBW",
        "outputId": "292393b4-a7e3-4bbf-ec4d-931dfadf1268"
      },
      "execution_count": null,
      "outputs": [
        {
          "output_type": "stream",
          "name": "stdout",
          "text": [
            "\n",
            "  1. 추가\n",
            "  2. 삭제\n",
            "  3. 보기\n",
            "  4. 그만두기\n",
            "  번호를 입력하세요. : \n",
            "4\n",
            "선택한 번호 : 4\n"
          ]
        }
      ]
    },
    {
      "cell_type": "code",
      "source": [
        "# 자판기\n",
        "\n",
        "num_coffee = 10\n",
        "money = 0\n",
        "\n",
        "while money :\n",
        "  print('커피를 판매합니다.')\n",
        "\n",
        "  num_coffee -= 1\n",
        "  print(f'남은 커피는 {num_coffee} 입니다.')\n",
        "\n",
        "  if num_coffee <= 0 :\n",
        "    print('커피 판매를 중지합니다.')\n",
        "    break\n",
        "  \n",
        "print('끝--')"
      ],
      "metadata": {
        "colab": {
          "base_uri": "https://localhost:8080/"
        },
        "id": "E6bcJZ-zH9kF",
        "outputId": "5d8a7d22-99f3-4080-b41a-c3c9ecd6cfbb"
      },
      "execution_count": null,
      "outputs": [
        {
          "output_type": "stream",
          "name": "stdout",
          "text": [
            "커피를 판매합니다.\n",
            "남은 커피는 9 입니다.\n",
            "커피를 판매합니다.\n",
            "남은 커피는 8 입니다.\n",
            "커피를 판매합니다.\n",
            "남은 커피는 7 입니다.\n",
            "커피를 판매합니다.\n",
            "남은 커피는 6 입니다.\n",
            "커피를 판매합니다.\n",
            "남은 커피는 5 입니다.\n",
            "커피를 판매합니다.\n",
            "남은 커피는 4 입니다.\n",
            "커피를 판매합니다.\n",
            "남은 커피는 3 입니다.\n",
            "커피를 판매합니다.\n",
            "남은 커피는 2 입니다.\n",
            "커피를 판매합니다.\n",
            "남은 커피는 1 입니다.\n",
            "커피를 판매합니다.\n",
            "남은 커피는 0 입니다.\n",
            "커피 판매를 중지합니다.\n",
            "끝--\n"
          ]
        }
      ]
    },
    {
      "cell_type": "markdown",
      "source": [
        "## 부가기능\n",
        "\n",
        "1. 돈을 입력 받는 기능\n",
        "2. 커피의 가격을 정하고 투입한 돈과 비교하여 동일한 경우, 부족한 경우, 남는 경우에 대해서 처리"
      ],
      "metadata": {
        "id": "d3C7Ssc4eOCu"
      }
    },
    {
      "cell_type": "code",
      "source": [
        "# 자판기 2\n",
        "\n",
        "num_coffee = 4\n",
        "price = 0\n",
        "money = 0\n",
        "\n",
        "#print('커피는 5000원 입니다.')\n",
        "\n",
        "while num_coffee > 0 :\n",
        "    print('커피는 5000원 입니다.')\n",
        "    print('지불 할 금액을 입력하세요.')\n",
        "    price = int(input())\n",
        "\n",
        "    if price == 5000 :\n",
        "      print('커피가 나왔습니다.')\n",
        "      num_coffee -= 1\n",
        "      print(f'남은 커피는 {num_coffee}잔 입니다.\\n_______')\n",
        "      \n",
        "    elif price < 5000 : \n",
        "      print('금액이 부족합니다.')\n",
        "      num_coffee -= 0\n",
        "      print(f'남은 커피는 {num_coffee}잔 입니다.\\n_______')\n",
        "      \n",
        "    elif price > 5000 :\n",
        "      print(f'거스름돈 {price - 5000}을 받으세요.')\n",
        "      num_coffee -= 1\n",
        "      print(f'남은 커피는 {num_coffee}잔 입니다.\\n_______')\n",
        "\n",
        "    else :\n",
        "      print('오류가 발생하였습니다.')\n",
        "      \n",
        "    #break\n",
        "\n",
        "print('끝--')"
      ],
      "metadata": {
        "colab": {
          "base_uri": "https://localhost:8080/"
        },
        "id": "o3Pnqf5fJ9DI",
        "outputId": "a850a9bf-b3c1-4c7f-9e1b-961af6e7b7f7"
      },
      "execution_count": null,
      "outputs": [
        {
          "output_type": "stream",
          "name": "stdout",
          "text": [
            "커피는 5000원 입니다.\n",
            "지불 할 금액을 입력하세요.\n",
            "5000\n",
            "커피가 나왔습니다.\n",
            "남은 커피는 3잔 입니다.\n",
            "_______\n",
            "커피는 5000원 입니다.\n",
            "지불 할 금액을 입력하세요.\n",
            "4000\n",
            "금액이 부족합니다.\n",
            "남은 커피는 3잔 입니다.\n",
            "_______\n",
            "커피는 5000원 입니다.\n",
            "지불 할 금액을 입력하세요.\n",
            "5000\n",
            "커피가 나왔습니다.\n",
            "남은 커피는 2잔 입니다.\n",
            "_______\n",
            "커피는 5000원 입니다.\n",
            "지불 할 금액을 입력하세요.\n",
            "6000\n",
            "거스름돈 1000을 받으세요.\n",
            "남은 커피는 1잔 입니다.\n",
            "_______\n",
            "커피는 5000원 입니다.\n",
            "지불 할 금액을 입력하세요.\n",
            "6000\n",
            "거스름돈 1000을 받으세요.\n",
            "남은 커피는 0잔 입니다.\n",
            "_______\n",
            "끝--\n"
          ]
        }
      ]
    },
    {
      "cell_type": "markdown",
      "source": [
        "- 1 ~ 10 홀수를 구하는 프로그램"
      ],
      "metadata": {
        "id": "_quaYjEQlEoY"
      }
    },
    {
      "cell_type": "code",
      "source": [
        "num = 0\n",
        "\n",
        "while num < 10 :\n",
        "  num += 1\n",
        "  if num%2 == 1 :\n",
        "    print(num)\n"
      ],
      "metadata": {
        "colab": {
          "base_uri": "https://localhost:8080/"
        },
        "id": "nBbTFTntlf3o",
        "outputId": "57ce34d6-e114-4d8f-bf21-c3bb947aad10"
      },
      "execution_count": null,
      "outputs": [
        {
          "output_type": "stream",
          "name": "stdout",
          "text": [
            "1\n",
            "3\n",
            "5\n",
            "7\n",
            "9\n"
          ]
        }
      ]
    },
    {
      "cell_type": "code",
      "source": [
        "#num==5일 때 continue를 만나므로 print이하 코드가 실행되지 않습니다. \n",
        "#따라서, 5를 제외한 1에서 9까지의 코드가 실행됩니다.\n",
        "\n",
        "num=0\n",
        "while num < 10:\n",
        "  num+=1\n",
        "  if num == 5:\n",
        "    continue\n",
        "  print(num)"
      ],
      "metadata": {
        "colab": {
          "base_uri": "https://localhost:8080/"
        },
        "id": "E348deZQmJWl",
        "outputId": "de57a6f3-f9cb-41fc-a22b-8424a2c65eed"
      },
      "execution_count": null,
      "outputs": [
        {
          "output_type": "stream",
          "name": "stdout",
          "text": [
            "1\n",
            "2\n",
            "3\n",
            "4\n",
            "6\n",
            "7\n",
            "8\n",
            "9\n",
            "10\n"
          ]
        }
      ]
    },
    {
      "cell_type": "markdown",
      "source": [
        "# for문 (반복문)\n",
        "- 변수를 따로 지정해주지 않아도 자동으로 지정\n",
        "```\n",
        "for 변수 in 리스트/튜플/문자열 :    \n",
        "     실행문...\n",
        "```  "
      ],
      "metadata": {
        "id": "BPw4KtLYs2VG"
      }
    },
    {
      "cell_type": "code",
      "source": [
        "lCnt = ['one', 'two', 'three']\n",
        "\n",
        "for i in lCnt :\n",
        "  print(i)"
      ],
      "metadata": {
        "colab": {
          "base_uri": "https://localhost:8080/"
        },
        "id": "siDIZmWRspU4",
        "outputId": "ff198422-c4bc-4ba3-f922-d652c915c681"
      },
      "execution_count": null,
      "outputs": [
        {
          "output_type": "stream",
          "name": "stdout",
          "text": [
            "one\n",
            "two\n",
            "three\n"
          ]
        }
      ]
    },
    {
      "cell_type": "code",
      "source": [
        "num = [(1, 2), (3, 4), (5, 6)]\n",
        "\n",
        "for (start, stop) in num :\n",
        "  print(stop - start)"
      ],
      "metadata": {
        "colab": {
          "base_uri": "https://localhost:8080/"
        },
        "id": "LsITuULmtbGj",
        "outputId": "22971f12-911d-4468-c0a3-27c3171ead2f"
      },
      "execution_count": null,
      "outputs": [
        {
          "output_type": "stream",
          "name": "stdout",
          "text": [
            "1\n",
            "1\n",
            "1\n"
          ]
        }
      ]
    },
    {
      "cell_type": "markdown",
      "source": [
        "## 1. 합불 예제"
      ],
      "metadata": {
        "id": "wrX97a5OuJt7"
      }
    },
    {
      "cell_type": "code",
      "source": [
        "scores = [90, 70, 85, 65, 50]\n",
        "cut_off = 80\n",
        "\n",
        "num = 0\n",
        "\n",
        "for score in scores : \n",
        "  num += 1\n",
        "  if score >= cut_off :\n",
        "    print(f'{num}번 학생 합격입니다.')\n",
        "  else :\n",
        "    print(f'{num}번 학생 다음기회에...')"
      ],
      "metadata": {
        "colab": {
          "base_uri": "https://localhost:8080/"
        },
        "id": "jvBZBsKYtllA",
        "outputId": "262067b1-a88d-4ac5-c51f-2b8331babf82"
      },
      "execution_count": null,
      "outputs": [
        {
          "output_type": "stream",
          "name": "stdout",
          "text": [
            "1번 학생 합격입니다.\n",
            "2번 학생 다음기회에...\n",
            "3번 학생 합격입니다.\n",
            "4번 학생 다음기회에...\n",
            "5번 학생 다음기회에...\n"
          ]
        }
      ]
    },
    {
      "cell_type": "markdown",
      "source": [
        "# range() 함수\n",
        "\n",
        "- 범위 생성 함수\n",
        "\n",
        "```\n",
        "range([start=0], stop, [step=1])\n",
        "[] : 생략가능\n",
        "```\n",
        "\n"
      ],
      "metadata": {
        "id": "_-CDrSHwvg-3"
      }
    },
    {
      "cell_type": "code",
      "source": [
        "a = range(10)\n",
        "\n",
        "a"
      ],
      "metadata": {
        "colab": {
          "base_uri": "https://localhost:8080/"
        },
        "id": "9_z5BdCQuzag",
        "outputId": "3459770f-9022-4ddf-dda5-a8af31a98e67"
      },
      "execution_count": null,
      "outputs": [
        {
          "output_type": "stream",
          "name": "stdout",
          "text": [
            "range(0, 10)\n"
          ]
        }
      ]
    },
    {
      "cell_type": "code",
      "source": [
        "# 1부터 10까지 더하기 (끝 숫자 11은 포함하지 않는다!!)\n",
        "\n",
        "result = 0\n",
        "\n",
        "for i in range(1, 11) :\n",
        "  result += i\n",
        "\n",
        "print(result)"
      ],
      "metadata": {
        "colab": {
          "base_uri": "https://localhost:8080/"
        },
        "id": "gUXILQTbvpSw",
        "outputId": "9b015b61-ff8c-4030-9181-e5b60fe261de"
      },
      "execution_count": null,
      "outputs": [
        {
          "output_type": "stream",
          "name": "stdout",
          "text": [
            "55\n"
          ]
        }
      ]
    },
    {
      "cell_type": "markdown",
      "source": [
        "# List Comprehension\n",
        "\n",
        "- 파이썬을 파이썬 답게 쓴다."
      ],
      "metadata": {
        "id": "QMM0NIC9w4tE"
      }
    },
    {
      "cell_type": "code",
      "source": [
        "result = [num + 3 for num in scores]\n",
        "\n",
        "print(scores)\n",
        "print(result)"
      ],
      "metadata": {
        "colab": {
          "base_uri": "https://localhost:8080/"
        },
        "id": "i6XTKHPYwYTU",
        "outputId": "cef2e838-e682-4cf3-f495-e2bfd004a5ba"
      },
      "execution_count": null,
      "outputs": [
        {
          "output_type": "stream",
          "name": "stdout",
          "text": [
            "[90, 70, 85, 65, 50]\n",
            "[93, 73, 88, 68, 53]\n"
          ]
        }
      ]
    },
    {
      "cell_type": "code",
      "source": [
        "#scores2 = [98, 73, 88, 68, 53]\n",
        "#result = [num + 3 for num in scores2 if num < (100-3) ]\n",
        "\n",
        "#result"
      ],
      "metadata": {
        "colab": {
          "base_uri": "https://localhost:8080/",
          "height": 131
        },
        "id": "XgK0AX9rxJp-",
        "outputId": "59d77eb9-978d-480c-d977-45e40926eb71"
      },
      "execution_count": null,
      "outputs": [
        {
          "output_type": "error",
          "ename": "SyntaxError",
          "evalue": "ignored",
          "traceback": [
            "\u001b[0;36m  File \u001b[0;32m\"<ipython-input-131-74b7ea69e58a>\"\u001b[0;36m, line \u001b[0;32m2\u001b[0m\n\u001b[0;31m    result = [num + 3 for num in scores2 if num < (100-3) else num]\u001b[0m\n\u001b[0m                                                             ^\u001b[0m\n\u001b[0;31mSyntaxError\u001b[0m\u001b[0;31m:\u001b[0m invalid syntax\n"
          ]
        }
      ]
    },
    {
      "cell_type": "code",
      "source": [
        "# 곱하기 출력 방법 1\n",
        "result = [x * y for x in range(2, 10) for y in range(1, 10)]\n",
        "\n",
        "result"
      ],
      "metadata": {
        "colab": {
          "base_uri": "https://localhost:8080/"
        },
        "id": "-WhOLaCvxfrs",
        "outputId": "17879770-8662-4759-eba6-9e7caa99d501"
      },
      "execution_count": null,
      "outputs": [
        {
          "output_type": "execute_result",
          "data": {
            "text/plain": [
              "[2,\n",
              " 4,\n",
              " 6,\n",
              " 8,\n",
              " 10,\n",
              " 12,\n",
              " 14,\n",
              " 16,\n",
              " 18,\n",
              " 3,\n",
              " 6,\n",
              " 9,\n",
              " 12,\n",
              " 15,\n",
              " 18,\n",
              " 21,\n",
              " 24,\n",
              " 27,\n",
              " 4,\n",
              " 8,\n",
              " 12,\n",
              " 16,\n",
              " 20,\n",
              " 24,\n",
              " 28,\n",
              " 32,\n",
              " 36,\n",
              " 5,\n",
              " 10,\n",
              " 15,\n",
              " 20,\n",
              " 25,\n",
              " 30,\n",
              " 35,\n",
              " 40,\n",
              " 45,\n",
              " 6,\n",
              " 12,\n",
              " 18,\n",
              " 24,\n",
              " 30,\n",
              " 36,\n",
              " 42,\n",
              " 48,\n",
              " 54,\n",
              " 7,\n",
              " 14,\n",
              " 21,\n",
              " 28,\n",
              " 35,\n",
              " 42,\n",
              " 49,\n",
              " 56,\n",
              " 63,\n",
              " 8,\n",
              " 16,\n",
              " 24,\n",
              " 32,\n",
              " 40,\n",
              " 48,\n",
              " 56,\n",
              " 64,\n",
              " 72,\n",
              " 9,\n",
              " 18,\n",
              " 27,\n",
              " 36,\n",
              " 45,\n",
              " 54,\n",
              " 63,\n",
              " 72,\n",
              " 81]"
            ]
          },
          "metadata": {},
          "execution_count": 128
        }
      ]
    },
    {
      "cell_type": "code",
      "source": [
        "# 곱하기 출력 방법 2\n",
        "# 이해하기 쉬운 코드\n",
        "lst = []\n",
        "\n",
        "for x in range(2, 10) :\n",
        "  for y in range(1, 10) :\n",
        "    #print(x * y)\n",
        "    lst.append(x * y)\n",
        "\n",
        "print(lst)"
      ],
      "metadata": {
        "colab": {
          "base_uri": "https://localhost:8080/"
        },
        "id": "h8Q-VYhIyQCx",
        "outputId": "ad414df0-0a0c-4d2a-eec3-97972bd41897"
      },
      "execution_count": null,
      "outputs": [
        {
          "output_type": "stream",
          "name": "stdout",
          "text": [
            "[2, 4, 6, 8, 10, 12, 14, 16, 18, 3, 6, 9, 12, 15, 18, 21, 24, 27, 4, 8, 12, 16, 20, 24, 28, 32, 36, 5, 10, 15, 20, 25, 30, 35, 40, 45, 6, 12, 18, 24, 30, 36, 42, 48, 54, 7, 14, 21, 28, 35, 42, 49, 56, 63, 8, 16, 24, 32, 40, 48, 56, 64, 72, 9, 18, 27, 36, 45, 54, 63, 72, 81]\n"
          ]
        }
      ]
    },
    {
      "cell_type": "markdown",
      "source": [
        "# for문 연습"
      ],
      "metadata": {
        "id": "Z_BSUVKj4d-C"
      }
    },
    {
      "cell_type": "code",
      "source": [
        "# 1. 과일을 하나씩 꺼내보기\n",
        "fruits = ['apple', 'watermelon', 'orange']\n",
        "\n",
        "for fruit in fruits :\n",
        "  print(fruit)"
      ],
      "metadata": {
        "colab": {
          "base_uri": "https://localhost:8080/"
        },
        "id": "CtHm4K4PymzL",
        "outputId": "bbcc611e-294d-4d37-aab5-85236848517b"
      },
      "execution_count": null,
      "outputs": [
        {
          "output_type": "stream",
          "name": "stdout",
          "text": [
            "apple\n",
            "watermelon\n",
            "orange\n"
          ]
        }
      ]
    },
    {
      "cell_type": "code",
      "source": [
        "# 2. 부가세 포함 가격 출력하기\n",
        "price = [10000, 20000, 30000]\n",
        "\n",
        "for i in price :\n",
        "  i += i*0.1\n",
        "  print(int(i))"
      ],
      "metadata": {
        "colab": {
          "base_uri": "https://localhost:8080/"
        },
        "id": "yJDFRQmE0wLI",
        "outputId": "3e26589a-280a-408a-e2bd-3babca473d6b"
      },
      "execution_count": null,
      "outputs": [
        {
          "output_type": "stream",
          "name": "stdout",
          "text": [
            "11000\n",
            "22000\n",
            "33000\n"
          ]
        }
      ]
    },
    {
      "cell_type": "code",
      "source": [
        "# 3. \n",
        "분식 = ['김밥', '라면', '튀김']\n",
        "\n",
        "# 오늘 점심 메뉴 :  김밥\n",
        "# 오늘 점심 메뉴 :  라면\n",
        "# 오늘 점심 메뉴 :  튀김\n",
        "# 으로 출력하기\n",
        "\n",
        "for i in 분식 :\n",
        "  print(f'오늘 점심 메뉴 : {i}')"
      ],
      "metadata": {
        "colab": {
          "base_uri": "https://localhost:8080/"
        },
        "id": "AytYQxun5lWQ",
        "outputId": "508add9a-8b85-45ec-f564-a2e83d8eeb7f"
      },
      "execution_count": null,
      "outputs": [
        {
          "output_type": "stream",
          "name": "stdout",
          "text": [
            "오늘 점심 메뉴 : 김밥\n",
            "오늘 점심 메뉴 : 라면\n",
            "오늘 점심 메뉴 : 튀김\n"
          ]
        }
      ]
    },
    {
      "cell_type": "code",
      "source": [
        "# 4. 리스트의 엘리먼트 , 엘리먼트의 길이, 엘리먼트의 첫글자를 출력\n",
        "pet = ['dog', 'cat', 'hamster']\n",
        "\n",
        "\n",
        "for i in pet :\n",
        "  print(f'{i}, {len(i)}, {i[0]}')"
      ],
      "metadata": {
        "colab": {
          "base_uri": "https://localhost:8080/"
        },
        "id": "CSz5qnzR6jWB",
        "outputId": "8d5e0744-8497-47ce-b91c-b2485430b807"
      },
      "execution_count": null,
      "outputs": [
        {
          "output_type": "stream",
          "name": "stdout",
          "text": [
            "dog, 3, d\n",
            "cat, 3, c\n",
            "hamster, 7, h\n"
          ]
        }
      ]
    },
    {
      "cell_type": "code",
      "source": [
        "# 5. dog를 뺀 나머지 출력\n",
        "pets = ['dog', 'cat', 'hamster', 'fish']\n",
        "\n",
        "for p in pets : \n",
        "  if p == 'dog' :\n",
        "    continue\n",
        "  print(p)\n",
        "\n",
        "\n",
        "#fot p in pets[1:] :\n",
        "# print(p)"
      ],
      "metadata": {
        "colab": {
          "base_uri": "https://localhost:8080/"
        },
        "id": "XwwKfOnL7_Zy",
        "outputId": "cc9ee4a2-e7c6-4385-bebd-0dd45c5111bc"
      },
      "execution_count": null,
      "outputs": [
        {
          "output_type": "stream",
          "name": "stdout",
          "text": [
            "cat\n",
            "hamster\n",
            "fish\n"
          ]
        }
      ]
    },
    {
      "cell_type": "code",
      "source": [
        "# 6. cat, fish 만 출력\n",
        "\n",
        "for p in pets[1::2] : \n",
        "  print(p)"
      ],
      "metadata": {
        "colab": {
          "base_uri": "https://localhost:8080/"
        },
        "id": "bmzIoL4t9ooK",
        "outputId": "6bf0f994-70a7-4884-ec40-7fc63d354be3"
      },
      "execution_count": null,
      "outputs": [
        {
          "output_type": "stream",
          "name": "stdout",
          "text": [
            "cat\n",
            "fish\n"
          ]
        }
      ]
    },
    {
      "cell_type": "code",
      "source": [
        "# 7. fish, hamster, cat, dog 순으로 출력하기\n",
        "\n",
        "for p in pets[::-1] :\n",
        "  print(p)"
      ],
      "metadata": {
        "colab": {
          "base_uri": "https://localhost:8080/"
        },
        "id": "bRxPQVOw_VRr",
        "outputId": "1da6a544-9d02-478c-cc76-7aed7c3ea926"
      },
      "execution_count": null,
      "outputs": [
        {
          "output_type": "stream",
          "name": "stdout",
          "text": [
            "fish\n",
            "hamster\n",
            "cat\n",
            "dog\n"
          ]
        }
      ]
    },
    {
      "cell_type": "code",
      "source": [
        "# 8. 음수만 출력하기\n",
        "num = [10, -20, -30, -40]\n",
        "\n",
        "for n in num :\n",
        "  if n < 0 :\n",
        "    print(n)"
      ],
      "metadata": {
        "colab": {
          "base_uri": "https://localhost:8080/"
        },
        "id": "_sTh9YpDBeXP",
        "outputId": "c970f46e-ccf6-4ba9-a7b7-b6b070a718e2"
      },
      "execution_count": null,
      "outputs": [
        {
          "output_type": "stream",
          "name": "stdout",
          "text": [
            "-20\n",
            "-30\n",
            "-40\n"
          ]
        }
      ]
    },
    {
      "cell_type": "code",
      "source": [
        "num = [10, -20, -30, -40]\n",
        "\n",
        "result = [i for i in num if i < 0]\n",
        "result"
      ],
      "metadata": {
        "colab": {
          "base_uri": "https://localhost:8080/"
        },
        "id": "dFhFyKeWD7OR",
        "outputId": "5c51801f-9b21-4918-8464-1bd1c424812c"
      },
      "execution_count": null,
      "outputs": [
        {
          "output_type": "execute_result",
          "data": {
            "text/plain": [
              "[-20, -30, -40]"
            ]
          },
          "metadata": {},
          "execution_count": 155
        }
      ]
    },
    {
      "cell_type": "code",
      "source": [
        ""
      ],
      "metadata": {
        "id": "zEFszjEQExg5"
      },
      "execution_count": null,
      "outputs": []
    }
  ]
}