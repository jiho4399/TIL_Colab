{
  "nbformat": 4,
  "nbformat_minor": 0,
  "metadata": {
    "colab": {
      "name": "07. 예외처리.ipynb",
      "provenance": [],
      "collapsed_sections": [],
      "toc_visible": true,
      "authorship_tag": "ABX9TyMCeqWM5s4dPP0Zq48r0b3q",
      "include_colab_link": true
    },
    "kernelspec": {
      "name": "python3",
      "display_name": "Python 3"
    },
    "language_info": {
      "name": "python"
    }
  },
  "cells": [
    {
      "cell_type": "markdown",
      "metadata": {
        "id": "view-in-github",
        "colab_type": "text"
      },
      "source": [
        "<a href=\"https://colab.research.google.com/github/jiho4399/TIL_Colab/blob/master/07_%EC%98%88%EC%99%B8%EC%B2%98%EB%A6%AC.ipynb\" target=\"_parent\"><img src=\"https://colab.research.google.com/assets/colab-badge.svg\" alt=\"Open In Colab\"/></a>"
      ]
    },
    {
      "cell_type": "markdown",
      "source": [
        "# 실습"
      ],
      "metadata": {
        "id": "_LVvhJGv20aa"
      }
    },
    {
      "cell_type": "markdown",
      "source": [
        "## 오류가 나면 0을 출력"
      ],
      "metadata": {
        "id": "MxWzYmgJ23uu"
      }
    },
    {
      "cell_type": "code",
      "execution_count": null,
      "metadata": {
        "colab": {
          "base_uri": "https://localhost:8080/"
        },
        "id": "8uQiFchC2o4g",
        "outputId": "366a836f-9a29-489e-bc8a-dab9a4f754fe"
      },
      "outputs": [
        {
          "output_type": "stream",
          "name": "stdout",
          "text": [
            "10.22\n",
            "0\n",
            "8.0\n"
          ]
        }
      ],
      "source": [
        "nums = ['10.22', '', '8.00']\n",
        "\n",
        "for num in nums :\n",
        "  try :\n",
        "    print(float(num))\n",
        "  \n",
        "  except Exception as e :\n",
        "    print(0)"
      ]
    },
    {
      "cell_type": "markdown",
      "source": [
        "## 변환값을 리스트로 저장"
      ],
      "metadata": {
        "id": "OYrmdYV251S6"
      }
    },
    {
      "cell_type": "code",
      "source": [
        "lst = []\n",
        "nums = ['10.22', '', '8.00']\n",
        "\n",
        "for num in nums :\n",
        "  try :\n",
        "    lst.append(float(num))\n",
        "  \n",
        "  except Exception as e :\n",
        "    lst.append(0)\n",
        "\n",
        "lst"
      ],
      "metadata": {
        "colab": {
          "base_uri": "https://localhost:8080/"
        },
        "id": "RS6-cmVY3Vyy",
        "outputId": "ffce6d24-8251-46e0-e4d4-343efa148504"
      },
      "execution_count": null,
      "outputs": [
        {
          "output_type": "execute_result",
          "data": {
            "text/plain": [
              "[10.22, 0, 8.0]"
            ]
          },
          "metadata": {},
          "execution_count": 15
        }
      ]
    },
    {
      "cell_type": "markdown",
      "source": [
        "## 데이터 오류 없이 출력하기"
      ],
      "metadata": {
        "id": "GjD_kbnRADgM"
      }
    },
    {
      "cell_type": "code",
      "source": [
        "data = [1, 2, 3]\n",
        "\n",
        "for i in range(5) :\n",
        "\n",
        "  try :\n",
        "    print(data[i])\n",
        "\n",
        "  except Exception as e :\n",
        "    print(e)\n",
        "    # break : e가 한번만 출력됨\n",
        "    # pass : e가 출력되지 않음"
      ],
      "metadata": {
        "colab": {
          "base_uri": "https://localhost:8080/"
        },
        "id": "HsW_I5qx39gf",
        "outputId": "db171758-48e4-4eb1-b86c-4f28d3fc1cf9"
      },
      "execution_count": null,
      "outputs": [
        {
          "output_type": "stream",
          "name": "stdout",
          "text": [
            "1\n",
            "2\n",
            "3\n",
            "list index out of range\n",
            "list index out of range\n"
          ]
        }
      ]
    },
    {
      "cell_type": "markdown",
      "source": [
        "# 총정리\n",
        "```\n",
        " try :    \n",
        "    예외가 발생할 수 있는 실행문\n",
        " except :    \n",
        "    예외가 발행한 경우 실행되는 실행문\n",
        " else :    #잘 사용하지 않음\n",
        "    예외가 발생하지 않았을 때 실행되는 실행문\n",
        " finally :     \n",
        "    예외처리에 상관없이 무조건 실행되는 실행문\n",
        "```\n",
        "or\n",
        "```\n",
        "try :    \n",
        "    예외가 발생할 수 있는 실행문\n",
        "    예외가 발생하지 않았을 때 실행되는 실행문\n",
        " except :    \n",
        "    예외가 발행한 경우 실행되는 실행문\n",
        "    \n",
        " 예외처리에 상관없이 무조건 실행되는 실행문\n"
      ],
      "metadata": {
        "id": "UAOnSp7cD7ma"
      }
    },
    {
      "cell_type": "code",
      "source": [
        "nums = ['10.22', '', '8.00']\n",
        "\n",
        "for num in nums :\n",
        "  try :\n",
        "    print(float(num))\n",
        "  \n",
        "  except Exception as e :\n",
        "    print(0)\n",
        "\n",
        "  else : \n",
        "    print('변환에 성공했습니다.') # 예외가 발생하지 않았을 때 실행하는 실행문\n",
        "\n",
        "  finally :\n",
        "    print('변환 완료!') # 예외처리에 상관없이 무조건 실행되는 실행문"
      ],
      "metadata": {
        "colab": {
          "base_uri": "https://localhost:8080/"
        },
        "id": "082GtNEtAb7l",
        "outputId": "3fed1208-11e1-4dc3-900b-69563ebd6307"
      },
      "execution_count": null,
      "outputs": [
        {
          "output_type": "stream",
          "name": "stdout",
          "text": [
            "10.22\n",
            "변환에 성공했습니다.\n",
            "변환 완료!\n",
            "0\n",
            "변환 완료!\n",
            "8.0\n",
            "변환에 성공했습니다.\n",
            "변환 완료!\n"
          ]
        }
      ]
    },
    {
      "cell_type": "code",
      "source": [
        "nums = ['10.22', '', '8.00']\n",
        "\n",
        "for num in nums :\n",
        "  try :\n",
        "    print(float(num))\n",
        "    print('변환에 성공했습니다.') # 예외가 발생하지 않았을 때 실행하는 실행문\n",
        "  \n",
        "  except Exception as e :\n",
        "    print(0)\n",
        "\n",
        "  print('변환 완료!') # 예외처리에 상관없이 무조건 실행되는 실행문"
      ],
      "metadata": {
        "colab": {
          "base_uri": "https://localhost:8080/"
        },
        "id": "SeD7WugOFZ6z",
        "outputId": "cc4415ff-3133-432b-ff12-851262201699"
      },
      "execution_count": null,
      "outputs": [
        {
          "output_type": "stream",
          "name": "stdout",
          "text": [
            "10.22\n",
            "변환에 성공했습니다.\n",
            "변환 완료!\n",
            "0\n",
            "변환 완료!\n",
            "8.0\n",
            "변환에 성공했습니다.\n",
            "변환 완료!\n"
          ]
        }
      ]
    },
    {
      "cell_type": "code",
      "source": [
        ""
      ],
      "metadata": {
        "id": "TFYOAPVCF4j7"
      },
      "execution_count": null,
      "outputs": []
    }
  ]
}