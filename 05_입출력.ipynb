{
  "nbformat": 4,
  "nbformat_minor": 0,
  "metadata": {
    "colab": {
      "name": "05. 입출력.ipynb",
      "provenance": [],
      "collapsed_sections": [],
      "authorship_tag": "ABX9TyNSf1EPNJ1ArnNxyiPqSjqI",
      "include_colab_link": true
    },
    "kernelspec": {
      "name": "python3",
      "display_name": "Python 3"
    },
    "language_info": {
      "name": "python"
    }
  },
  "cells": [
    {
      "cell_type": "markdown",
      "metadata": {
        "id": "view-in-github",
        "colab_type": "text"
      },
      "source": [
        "<a href=\"https://colab.research.google.com/github/jiho4399/TIL_Colab/blob/master/05_%EC%9E%85%EC%B6%9C%EB%A0%A5.ipynb\" target=\"_parent\"><img src=\"https://colab.research.google.com/assets/colab-badge.svg\" alt=\"Open In Colab\"/></a>"
      ]
    },
    {
      "cell_type": "markdown",
      "source": [
        "# 8. 변수 스코프\n"
      ],
      "metadata": {
        "id": "jjMyRHS8MJUt"
      }
    },
    {
      "cell_type": "markdown",
      "source": [
        "## vartest with return"
      ],
      "metadata": {
        "id": "R7j3Wqr4qAiB"
      }
    },
    {
      "cell_type": "markdown",
      "source": [
        "```\n",
        "a = 4\n",
        "\n",
        "def vartest(b) :    \n",
        "  b = b + 1\n",
        "  return b\n",
        "\n",
        "vartest(b)\n",
        "b\n",
        "```"
      ],
      "metadata": {
        "id": "A9xwjKXeXRPE"
      }
    },
    {
      "cell_type": "markdown",
      "source": [
        "- print(lVar) 하면 lVar + 1 한 값을 출력하지만\n",
        "- return 해주지 않았기 때문에 gVar는 그대로 1이 출력됨"
      ],
      "metadata": {
        "id": "OPiROChKkYQN"
      }
    },
    {
      "cell_type": "code",
      "execution_count": null,
      "metadata": {
        "colab": {
          "base_uri": "https://localhost:8080/"
        },
        "id": "hHwnHV86MHRC",
        "outputId": "8da6f1e9-8d25-477b-c2c0-65da14e55e24"
      },
      "outputs": [
        {
          "output_type": "stream",
          "name": "stdout",
          "text": [
            "2\n"
          ]
        },
        {
          "output_type": "execute_result",
          "data": {
            "text/plain": [
              "1"
            ]
          },
          "metadata": {},
          "execution_count": 29
        }
      ],
      "source": [
        "gVar = 1 #전역변수 : 어디에서나 사용 가능\n",
        "\n",
        "def vartest(lVar) : #지역변수 : 특정한 곳에서만 사용 가능\n",
        "  lVar = lVar + 1\n",
        "  print(lVar) \n",
        "\n",
        "vartest(gVar)\n",
        "gVar"
      ]
    },
    {
      "cell_type": "code",
      "source": [
        "gVar = 5\n",
        "\n",
        "def vartest(lVar) :\n",
        "  lVar = lVar + 1\n",
        "  #print(lVar)\n",
        "  return lVar #lVar + 1 을 lVar로 돌려줌\n",
        "\n",
        "vartest(gVar) "
      ],
      "metadata": {
        "colab": {
          "base_uri": "https://localhost:8080/"
        },
        "id": "_wwkJ9EdNV84",
        "outputId": "0a16e77d-fd68-48a8-d610-1fb78a92c88f"
      },
      "execution_count": null,
      "outputs": [
        {
          "output_type": "execute_result",
          "data": {
            "text/plain": [
              "6"
            ]
          },
          "metadata": {},
          "execution_count": 25
        }
      ]
    },
    {
      "cell_type": "markdown",
      "source": [
        "## vartest with global\n",
        "- gVal, lVal 구분이 없어서 문제 발생 가능성 높아짐\n",
        "- 그래서 global 함수는 잘 쓰지 않음\n"
      ],
      "metadata": {
        "id": "2vDl-dv5qHc9"
      }
    },
    {
      "cell_type": "code",
      "source": [
        "a = 1\n",
        "def vartest2() :\n",
        "  global a\n",
        "  a = a + 1\n",
        "\n",
        "vartest2()\n",
        "print(a)"
      ],
      "metadata": {
        "colab": {
          "base_uri": "https://localhost:8080/"
        },
        "id": "hCToFI4JOqUj",
        "outputId": "1cf6acfb-a6a9-4913-c3ef-79caf2ea79e3"
      },
      "execution_count": null,
      "outputs": [
        {
          "output_type": "stream",
          "name": "stdout",
          "text": [
            "2\n"
          ]
        }
      ]
    },
    {
      "cell_type": "markdown",
      "source": [
        "# 9. 람다 함수\n",
        "- 함수명이 없는 함수\n",
        "- 함수를 짧게 사용할 경우에 사용\n",
        "- 가끔 변수명을 지정해주기도 함"
      ],
      "metadata": {
        "id": "JkErHubQqlJG"
      }
    },
    {
      "cell_type": "code",
      "source": [
        "add = lambda a, b : a + b\n",
        "\n",
        "r = add(1, 2)\n",
        "r"
      ],
      "metadata": {
        "colab": {
          "base_uri": "https://localhost:8080/"
        },
        "id": "jn3YUesIiR_B",
        "outputId": "890b7e74-612b-496f-f22f-35f0449ba741"
      },
      "execution_count": null,
      "outputs": [
        {
          "output_type": "execute_result",
          "data": {
            "text/plain": [
              "3"
            ]
          },
          "metadata": {},
          "execution_count": 40
        }
      ]
    },
    {
      "cell_type": "code",
      "source": [
        "# 위에 lambda 와 같은 방식\n",
        "def add(a, b) :\n",
        "  return a + b\n",
        "\n",
        "add(1, 2)"
      ],
      "metadata": {
        "colab": {
          "base_uri": "https://localhost:8080/"
        },
        "id": "b7j7_AQXq_CY",
        "outputId": "23f637cb-bc85-4b4e-be0b-53cd4b1f891e"
      },
      "execution_count": null,
      "outputs": [
        {
          "output_type": "execute_result",
          "data": {
            "text/plain": [
              "3"
            ]
          },
          "metadata": {},
          "execution_count": 43
        }
      ]
    },
    {
      "cell_type": "markdown",
      "source": [
        "# 1. 입출력 input()\n",
        "- 결과가 문자열로 처리됨"
      ],
      "metadata": {
        "id": "VkxejgFSr3oj"
      }
    },
    {
      "cell_type": "code",
      "source": [
        "num1= input('숫자를 넣어주세요. ')\n",
        "num1"
      ],
      "metadata": {
        "colab": {
          "base_uri": "https://localhost:8080/",
          "height": 53
        },
        "id": "Q-Cw7jOjrXZI",
        "outputId": "f667eb6e-697e-421e-88e0-0e1ddd82402f"
      },
      "execution_count": null,
      "outputs": [
        {
          "name": "stdout",
          "output_type": "stream",
          "text": [
            "숫자를 넣어주세요. 3\n"
          ]
        },
        {
          "output_type": "execute_result",
          "data": {
            "application/vnd.google.colaboratory.intrinsic+json": {
              "type": "string"
            },
            "text/plain": [
              "'3'"
            ]
          },
          "metadata": {},
          "execution_count": 51
        }
      ]
    },
    {
      "cell_type": "code",
      "source": [
        "# 숫자로 처리하기 위해 int()\n",
        "num2 = int(input('숫자를 넣어주세요! '))\n",
        "num2"
      ],
      "metadata": {
        "colab": {
          "base_uri": "https://localhost:8080/"
        },
        "id": "gV6sBD0NsM6V",
        "outputId": "e8ef0138-5c0d-4fe1-a133-fa379a04bc5f"
      },
      "execution_count": null,
      "outputs": [
        {
          "name": "stdout",
          "output_type": "stream",
          "text": [
            "숫자를 넣어주세요! 5\n"
          ]
        },
        {
          "output_type": "execute_result",
          "data": {
            "text/plain": [
              "5"
            ]
          },
          "metadata": {},
          "execution_count": 52
        }
      ]
    },
    {
      "cell_type": "code",
      "source": [
        "print('I' 'love' 'you')"
      ],
      "metadata": {
        "colab": {
          "base_uri": "https://localhost:8080/"
        },
        "id": "wFdRq1VGsp9G",
        "outputId": "2d8a75d7-af6c-48cc-acd4-8c433db37b71"
      },
      "execution_count": null,
      "outputs": [
        {
          "output_type": "stream",
          "name": "stdout",
          "text": [
            "Iloveyou\n"
          ]
        }
      ]
    },
    {
      "cell_type": "code",
      "source": [
        "print('I', 'love', 'you')"
      ],
      "metadata": {
        "colab": {
          "base_uri": "https://localhost:8080/"
        },
        "id": "nvv9Bc9rtNgu",
        "outputId": "a60b5a6d-585f-4644-cb3f-0a4932e0f8af"
      },
      "execution_count": null,
      "outputs": [
        {
          "output_type": "stream",
          "name": "stdout",
          "text": [
            "I love you\n"
          ]
        }
      ]
    },
    {
      "cell_type": "code",
      "source": [
        "for i in range(10) :\n",
        "  print(i)"
      ],
      "metadata": {
        "colab": {
          "base_uri": "https://localhost:8080/"
        },
        "id": "sBtuJCHHtlmG",
        "outputId": "fb5dc5a4-4473-4655-9e30-40f04791ea97"
      },
      "execution_count": null,
      "outputs": [
        {
          "output_type": "stream",
          "name": "stdout",
          "text": [
            "0\n",
            "1\n",
            "2\n",
            "3\n",
            "4\n",
            "5\n",
            "6\n",
            "7\n",
            "8\n",
            "9\n"
          ]
        }
      ]
    },
    {
      "cell_type": "code",
      "source": [
        "# print()에는 end라는 파라메타가 있는데 \n",
        "# 기본값은 new line이고 띄어쓰기를 입력하면 가로로 출력됨\n",
        "for i in range(10) :\n",
        "  print(i, end = ' ')"
      ],
      "metadata": {
        "colab": {
          "base_uri": "https://localhost:8080/"
        },
        "id": "lA0nr7f7twRM",
        "outputId": "2f00029e-62de-440b-fdd7-796237b50a8f"
      },
      "execution_count": null,
      "outputs": [
        {
          "output_type": "stream",
          "name": "stdout",
          "text": [
            "0 1 2 3 4 5 6 7 8 9 "
          ]
        }
      ]
    },
    {
      "cell_type": "markdown",
      "source": [
        "# 2. 파일\n",
        "\n",
        "- 데이터를 보관하기 위한 장소 중 하나\n"
      ],
      "metadata": {
        "id": "D3oFJGHcuRwd"
      }
    },
    {
      "cell_type": "markdown",
      "source": [
        "## 파일 생성하기\n",
        "\n",
        "- open('파일명', '모드') 형식\n",
        "- 모드\n",
        "  - r : read\n",
        "  - w : write\n",
        "  - a : append\n",
        "- 변수명.close()로 닫아주기"
      ],
      "metadata": {
        "id": "rq7fRgWpvsS6"
      }
    },
    {
      "cell_type": "code",
      "source": [
        "f = open('filetest.txt', 'w')\n",
        "\n",
        "f.close()"
      ],
      "metadata": {
        "id": "tjpa0MtRt1UT"
      },
      "execution_count": null,
      "outputs": []
    },
    {
      "cell_type": "markdown",
      "source": [
        "- 파일 생성하고 내용 넣기"
      ],
      "metadata": {
        "id": "xXv9Arowwi5u"
      }
    },
    {
      "cell_type": "code",
      "source": [
        "f = open('filetest.txt', 'w')\n",
        "\n",
        "for i in range(1, 11) :\n",
        "  data = f'{i} 번째 줄 입니다. \\n'\n",
        "  f.write(data)\n",
        "\n",
        "f.close()"
      ],
      "metadata": {
        "id": "AybSNVXfvquH"
      },
      "execution_count": null,
      "outputs": []
    },
    {
      "cell_type": "markdown",
      "source": [
        "## 파일 읽기\n",
        "- .readlines() 하면 자동으로 리스트로 리턴해줌"
      ],
      "metadata": {
        "id": "sLDPg7l10ujK"
      }
    },
    {
      "cell_type": "code",
      "source": [
        "f = open('filetest.txt', 'r')\n",
        "\n",
        "line = f.readline()\n",
        "print(line)\n",
        "\n",
        "f.close()"
      ],
      "metadata": {
        "colab": {
          "base_uri": "https://localhost:8080/"
        },
        "id": "bOW7eKSywZHc",
        "outputId": "e2d3ce41-b4d1-4b04-acde-9f5e46690948"
      },
      "execution_count": null,
      "outputs": [
        {
          "output_type": "stream",
          "name": "stdout",
          "text": [
            "1 번째 줄 입니다. \n",
            "\n"
          ]
        }
      ]
    },
    {
      "cell_type": "code",
      "source": [
        "f = open('filetest.txt', 'r')\n",
        "\n",
        "lines = f.readlines()\n",
        "print(lines)\n",
        "\n",
        "f.close()"
      ],
      "metadata": {
        "colab": {
          "base_uri": "https://localhost:8080/"
        },
        "id": "e8YgyJgtz9Oo",
        "outputId": "46ffc849-0b72-4104-cd0c-643003a72044"
      },
      "execution_count": null,
      "outputs": [
        {
          "output_type": "stream",
          "name": "stdout",
          "text": [
            "['1 번째 줄 입니다. \\n', '2 번째 줄 입니다. \\n', '3 번째 줄 입니다. \\n', '4 번째 줄 입니다. \\n', '5 번째 줄 입니다. \\n', '6 번째 줄 입니다. \\n', '7 번째 줄 입니다. \\n', '8 번째 줄 입니다. \\n', '9 번째 줄 입니다. \\n', '10 번째 줄 입니다. \\n']\n"
          ]
        }
      ]
    },
    {
      "cell_type": "markdown",
      "source": [
        "- for문 사용하여 출력하기"
      ],
      "metadata": {
        "id": "ZpbyuiHb5tt5"
      }
    },
    {
      "cell_type": "code",
      "source": [
        "f = open('filetest.txt', 'r')\n",
        "\n",
        "lines = f.readlines()\n",
        "for line in lines :\n",
        "  print(line)\n",
        "\n",
        "f.close()"
      ],
      "metadata": {
        "colab": {
          "base_uri": "https://localhost:8080/"
        },
        "id": "Bg4cfbAZ1kgg",
        "outputId": "b6dee79b-224c-45e4-da92-308fb6a01db7"
      },
      "execution_count": null,
      "outputs": [
        {
          "output_type": "stream",
          "name": "stdout",
          "text": [
            "1 번째 줄 입니다. \n",
            "\n",
            "2 번째 줄 입니다. \n",
            "\n",
            "3 번째 줄 입니다. \n",
            "\n",
            "4 번째 줄 입니다. \n",
            "\n",
            "5 번째 줄 입니다. \n",
            "\n",
            "6 번째 줄 입니다. \n",
            "\n",
            "7 번째 줄 입니다. \n",
            "\n",
            "8 번째 줄 입니다. \n",
            "\n",
            "9 번째 줄 입니다. \n",
            "\n",
            "10 번째 줄 입니다. \n",
            "\n"
          ]
        }
      ]
    },
    {
      "cell_type": "markdown",
      "source": [
        "- while문 사용하여 출력하기"
      ],
      "metadata": {
        "id": "aIgWOazy5w42"
      }
    },
    {
      "cell_type": "code",
      "source": [
        "# line의 갯수를 알 수 없을 때 read\n",
        "f = open('filetest.txt', 'r')\n",
        "\n",
        "while True :\n",
        "  line = f.readline()\n",
        "  if not line :\n",
        "    break\n",
        "  print(line)\n",
        "  \n",
        "f.close"
      ],
      "metadata": {
        "colab": {
          "base_uri": "https://localhost:8080/"
        },
        "id": "pruLU2rF2akW",
        "outputId": "6ec0dcf4-4d7b-4c6b-ad81-dc95d8a6bbe6"
      },
      "execution_count": null,
      "outputs": [
        {
          "output_type": "stream",
          "name": "stdout",
          "text": [
            "1 번째 줄 입니다. \n",
            "\n",
            "2 번째 줄 입니다. \n",
            "\n",
            "3 번째 줄 입니다. \n",
            "\n",
            "4 번째 줄 입니다. \n",
            "\n",
            "5 번째 줄 입니다. \n",
            "\n",
            "6 번째 줄 입니다. \n",
            "\n",
            "7 번째 줄 입니다. \n",
            "\n",
            "8 번째 줄 입니다. \n",
            "\n",
            "9 번째 줄 입니다. \n",
            "\n",
            "10 번째 줄 입니다. \n",
            "\n"
          ]
        },
        {
          "output_type": "execute_result",
          "data": {
            "text/plain": [
              "<function TextIOWrapper.close>"
            ]
          },
          "metadata": {},
          "execution_count": 80
        }
      ]
    },
    {
      "cell_type": "markdown",
      "source": [
        "## 파일에 내용 추가하기\n",
        "\n",
        "- with라는 예약어를 사용하면 자동으로 close( ) 됨"
      ],
      "metadata": {
        "id": "dTWHaGmS6yX2"
      }
    },
    {
      "cell_type": "code",
      "source": [
        "with open('filetest.txt', 'a') as f :\n",
        "  for i in range(11, 21) :\n",
        "    data = f'{i} 번째 줄입니다. \\n'\n",
        "    f.write(data)"
      ],
      "metadata": {
        "id": "DfaNCeOl2_w-"
      },
      "execution_count": null,
      "outputs": []
    },
    {
      "cell_type": "markdown",
      "source": [
        "## 실습"
      ],
      "metadata": {
        "id": "b_RHiuqN7ofZ"
      }
    },
    {
      "cell_type": "markdown",
      "source": [
        "1. 매수종목.txt 라는 이름으로 상위 3위 종목 파일 만들기 (번호만)\n",
        "\n",
        "  - 로스웰 900260\n",
        "  - KODEX 252670\n",
        "  - TS트릴리온 317240"
      ],
      "metadata": {
        "id": "CJMmFSeC8Ib4"
      }
    },
    {
      "cell_type": "code",
      "source": [
        "stocks = {'로스웰' : 900260, 'KODEX' : 252670, 'TS트릴리온' : 317240}\n",
        "with open('매수종목.txt', 'w') as s :\n",
        "  for i, j in stocks.items() :\n",
        "    data = f'{i} : {j} \\n'\n",
        "    s.write(data)"
      ],
      "metadata": {
        "id": "pOvBpfXx7GAS"
      },
      "execution_count": null,
      "outputs": []
    },
    {
      "cell_type": "markdown",
      "source": [
        "2. 파일을 읽고 종목명과 코드를 리스트로 만들기"
      ],
      "metadata": {
        "id": "svIgeJuCEUYP"
      }
    },
    {
      "cell_type": "code",
      "source": [
        "with open('매수종목.txt', 'r') as s :\n",
        "  line = s.readlines()\n",
        " \n",
        "  lst = []\n",
        "\n",
        "  for line in lines :\n",
        "    lst.append(line.strip()) #strip() : 공백 제거\n",
        "\n",
        "  print(lst)"
      ],
      "metadata": {
        "colab": {
          "base_uri": "https://localhost:8080/"
        },
        "id": "d-33gerdDdMv",
        "outputId": "093a6903-8b16-4245-a8c5-73735f4801c0"
      },
      "execution_count": null,
      "outputs": [
        {
          "output_type": "stream",
          "name": "stdout",
          "text": [
            "['로스웰 : 900260', 'KODEX : 252670', 'TS트릴리온 : 317240']\n"
          ]
        }
      ]
    },
    {
      "cell_type": "markdown",
      "source": [
        "3. 파일을 읽고 종목명과 코드를 딕셔너리로 만들기"
      ],
      "metadata": {
        "id": "oVetUmluGsio"
      }
    },
    {
      "cell_type": "code",
      "source": [
        "with open('매수종목.txt', 'r') as s :\n",
        "  lines = s.readlines()\n",
        "\n",
        "  dic = {}\n",
        "\n",
        "  for line in lines :\n",
        "    i, j = line.strip().split(':') #strip() : 공백 제거, split : ':'기준으로 나누기\n",
        "    dic[i] = j\n",
        "  \n",
        "  print(dic)"
      ],
      "metadata": {
        "colab": {
          "base_uri": "https://localhost:8080/"
        },
        "id": "O8t6wQ-VE-cq",
        "outputId": "9a858162-81c8-4717-ab5f-1d42564ce814"
      },
      "execution_count": null,
      "outputs": [
        {
          "output_type": "stream",
          "name": "stdout",
          "text": [
            "{'로스웰 ': ' 900260', 'KODEX ': ' 252670', 'TS트릴리온 ': ' 317240'}\n"
          ]
        }
      ]
    },
    {
      "cell_type": "code",
      "source": [
        ""
      ],
      "metadata": {
        "id": "ZLHZiTwUF4aL"
      },
      "execution_count": null,
      "outputs": []
    },
    {
      "cell_type": "markdown",
      "source": [
        " 3.에 대한 강사님 해설"
      ],
      "metadata": {
        "id": "ioF0H9WSYE3T"
      }
    },
    {
      "cell_type": "code",
      "source": [
        "stock = {'로스웰' : 900260, 'KODEX' : 252670, 'TS트릴리온' : 317240}\n",
        "with open('매수종목1.txt', 'w') as s :\n",
        "  for i, j in stock.items() :\n",
        "    data = f'{i} {j} \\n'\n",
        "    s.write(data)"
      ],
      "metadata": {
        "id": "BzK3mqrFW8uG"
      },
      "execution_count": null,
      "outputs": []
    },
    {
      "cell_type": "code",
      "source": [
        "with open('매수종목1.txt', 'r') as s :\n",
        "  lines = s.readlines()\n",
        "\n",
        "  data = {}\n",
        "\n",
        "  for line in lines :\n",
        "    #print(line)\n",
        "    k, v = line.split() #.strip()\n",
        "    data[k] = v\n",
        "  \n",
        "  print(data)"
      ],
      "metadata": {
        "colab": {
          "base_uri": "https://localhost:8080/"
        },
        "id": "dmXlsg5fW_ta",
        "outputId": "7f9617b3-2223-4813-d4ac-bb6b2c7acb70"
      },
      "execution_count": null,
      "outputs": [
        {
          "output_type": "stream",
          "name": "stdout",
          "text": [
            "{'로스웰': '900260', 'KODEX': '252670', 'TS트릴리온': '317240'}\n"
          ]
        }
      ]
    },
    {
      "cell_type": "code",
      "source": [
        ""
      ],
      "metadata": {
        "id": "Qcqtf9QSXYKk"
      },
      "execution_count": null,
      "outputs": []
    }
  ]
}